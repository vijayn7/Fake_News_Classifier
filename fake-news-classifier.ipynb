{
 "cells": [
  {
   "cell_type": "code",
   "execution_count": 1,
   "id": "a6859e93",
   "metadata": {
    "execution": {
     "iopub.execute_input": "2024-11-11T00:18:30.636293Z",
     "iopub.status.busy": "2024-11-11T00:18:30.635845Z",
     "iopub.status.idle": "2024-11-11T00:18:33.487085Z",
     "shell.execute_reply": "2024-11-11T00:18:33.485889Z"
    },
    "papermill": {
     "duration": 2.866094,
     "end_time": "2024-11-11T00:18:33.489873",
     "exception": false,
     "start_time": "2024-11-11T00:18:30.623779",
     "status": "completed"
    },
    "tags": []
   },
   "outputs": [],
   "source": [
    "import pandas as pd\n",
    "import numpy as np\n",
    "import matplotlib.pyplot as plt\n",
    "import seaborn as sns\n",
    "\n",
    "from sklearn.model_selection import train_test_split\n",
    "from sklearn.metrics import classification_report, accuracy_score, f1_score\n",
    "from sklearn.feature_extraction.text import TfidfVectorizer\n",
    "import re\n",
    "import string"
   ]
  },
  {
   "cell_type": "code",
   "execution_count": 2,
   "id": "13444839",
   "metadata": {
    "execution": {
     "iopub.execute_input": "2024-11-11T00:18:33.507744Z",
     "iopub.status.busy": "2024-11-11T00:18:33.507171Z",
     "iopub.status.idle": "2024-11-11T00:18:36.359064Z",
     "shell.execute_reply": "2024-11-11T00:18:36.357894Z"
    },
    "papermill": {
     "duration": 2.863948,
     "end_time": "2024-11-11T00:18:36.361986",
     "exception": false,
     "start_time": "2024-11-11T00:18:33.498038",
     "status": "completed"
    },
    "tags": []
   },
   "outputs": [],
   "source": [
    "train = pd.read_csv('/kaggle/input/fake-news-classification/train (2).csv', sep=';')\n",
    "test = pd.read_csv('/kaggle/input/fake-news-classification/test (1).csv', sep=';')\n",
    "eval = pd.read_csv('/kaggle/input/fake-news-classification/evaluation.csv', sep=';')"
   ]
  },
  {
   "cell_type": "code",
   "execution_count": 3,
   "id": "099ba298",
   "metadata": {
    "execution": {
     "iopub.execute_input": "2024-11-11T00:18:36.380672Z",
     "iopub.status.busy": "2024-11-11T00:18:36.379498Z",
     "iopub.status.idle": "2024-11-11T00:18:36.398008Z",
     "shell.execute_reply": "2024-11-11T00:18:36.396936Z"
    },
    "papermill": {
     "duration": 0.030093,
     "end_time": "2024-11-11T00:18:36.400486",
     "exception": false,
     "start_time": "2024-11-11T00:18:36.370393",
     "status": "completed"
    },
    "tags": []
   },
   "outputs": [
    {
     "data": {
      "text/html": [
       "<div>\n",
       "<style scoped>\n",
       "    .dataframe tbody tr th:only-of-type {\n",
       "        vertical-align: middle;\n",
       "    }\n",
       "\n",
       "    .dataframe tbody tr th {\n",
       "        vertical-align: top;\n",
       "    }\n",
       "\n",
       "    .dataframe thead th {\n",
       "        text-align: right;\n",
       "    }\n",
       "</style>\n",
       "<table border=\"1\" class=\"dataframe\">\n",
       "  <thead>\n",
       "    <tr style=\"text-align: right;\">\n",
       "      <th></th>\n",
       "      <th>Unnamed: 0</th>\n",
       "      <th>title</th>\n",
       "      <th>text</th>\n",
       "      <th>label</th>\n",
       "    </tr>\n",
       "  </thead>\n",
       "  <tbody>\n",
       "    <tr>\n",
       "      <th>0</th>\n",
       "      <td>0</td>\n",
       "      <td>Palestinians switch off Christmas lights in Be...</td>\n",
       "      <td>RAMALLAH, West Bank (Reuters) - Palestinians s...</td>\n",
       "      <td>1</td>\n",
       "    </tr>\n",
       "  </tbody>\n",
       "</table>\n",
       "</div>"
      ],
      "text/plain": [
       "   Unnamed: 0                                              title  \\\n",
       "0           0  Palestinians switch off Christmas lights in Be...   \n",
       "\n",
       "                                                text  label  \n",
       "0  RAMALLAH, West Bank (Reuters) - Palestinians s...      1  "
      ]
     },
     "execution_count": 3,
     "metadata": {},
     "output_type": "execute_result"
    }
   ],
   "source": [
    "train.head(1)"
   ]
  },
  {
   "cell_type": "code",
   "execution_count": 4,
   "id": "5c9b8e3a",
   "metadata": {
    "execution": {
     "iopub.execute_input": "2024-11-11T00:18:36.418389Z",
     "iopub.status.busy": "2024-11-11T00:18:36.418003Z",
     "iopub.status.idle": "2024-11-11T00:18:36.428951Z",
     "shell.execute_reply": "2024-11-11T00:18:36.427905Z"
    },
    "papermill": {
     "duration": 0.022948,
     "end_time": "2024-11-11T00:18:36.431550",
     "exception": false,
     "start_time": "2024-11-11T00:18:36.408602",
     "status": "completed"
    },
    "tags": []
   },
   "outputs": [
    {
     "data": {
      "text/html": [
       "<div>\n",
       "<style scoped>\n",
       "    .dataframe tbody tr th:only-of-type {\n",
       "        vertical-align: middle;\n",
       "    }\n",
       "\n",
       "    .dataframe tbody tr th {\n",
       "        vertical-align: top;\n",
       "    }\n",
       "\n",
       "    .dataframe thead th {\n",
       "        text-align: right;\n",
       "    }\n",
       "</style>\n",
       "<table border=\"1\" class=\"dataframe\">\n",
       "  <thead>\n",
       "    <tr style=\"text-align: right;\">\n",
       "      <th></th>\n",
       "      <th>Unnamed: 0</th>\n",
       "      <th>title</th>\n",
       "      <th>text</th>\n",
       "      <th>label</th>\n",
       "    </tr>\n",
       "  </thead>\n",
       "  <tbody>\n",
       "    <tr>\n",
       "      <th>0</th>\n",
       "      <td>0</td>\n",
       "      <td>Live from New York, it's a Trump-Clinton remat...</td>\n",
       "      <td>NEW YORK (Reuters) - Veteran actor and frequen...</td>\n",
       "      <td>1</td>\n",
       "    </tr>\n",
       "  </tbody>\n",
       "</table>\n",
       "</div>"
      ],
      "text/plain": [
       "   Unnamed: 0                                              title  \\\n",
       "0           0  Live from New York, it's a Trump-Clinton remat...   \n",
       "\n",
       "                                                text  label  \n",
       "0  NEW YORK (Reuters) - Veteran actor and frequen...      1  "
      ]
     },
     "execution_count": 4,
     "metadata": {},
     "output_type": "execute_result"
    }
   ],
   "source": [
    "test.head(1)"
   ]
  },
  {
   "cell_type": "code",
   "execution_count": 5,
   "id": "402ab836",
   "metadata": {
    "execution": {
     "iopub.execute_input": "2024-11-11T00:18:36.450286Z",
     "iopub.status.busy": "2024-11-11T00:18:36.449307Z",
     "iopub.status.idle": "2024-11-11T00:18:36.460523Z",
     "shell.execute_reply": "2024-11-11T00:18:36.459561Z"
    },
    "papermill": {
     "duration": 0.022906,
     "end_time": "2024-11-11T00:18:36.462813",
     "exception": false,
     "start_time": "2024-11-11T00:18:36.439907",
     "status": "completed"
    },
    "tags": []
   },
   "outputs": [
    {
     "data": {
      "text/html": [
       "<div>\n",
       "<style scoped>\n",
       "    .dataframe tbody tr th:only-of-type {\n",
       "        vertical-align: middle;\n",
       "    }\n",
       "\n",
       "    .dataframe tbody tr th {\n",
       "        vertical-align: top;\n",
       "    }\n",
       "\n",
       "    .dataframe thead th {\n",
       "        text-align: right;\n",
       "    }\n",
       "</style>\n",
       "<table border=\"1\" class=\"dataframe\">\n",
       "  <thead>\n",
       "    <tr style=\"text-align: right;\">\n",
       "      <th></th>\n",
       "      <th>Unnamed: 0</th>\n",
       "      <th>title</th>\n",
       "      <th>text</th>\n",
       "      <th>label</th>\n",
       "    </tr>\n",
       "  </thead>\n",
       "  <tbody>\n",
       "    <tr>\n",
       "      <th>0</th>\n",
       "      <td>0</td>\n",
       "      <td>Sanders back in U.S. Senate, blasts 'coloniali...</td>\n",
       "      <td>WASHINGTON (Reuters) - Democratic U.S. preside...</td>\n",
       "      <td>1</td>\n",
       "    </tr>\n",
       "  </tbody>\n",
       "</table>\n",
       "</div>"
      ],
      "text/plain": [
       "   Unnamed: 0                                              title  \\\n",
       "0           0  Sanders back in U.S. Senate, blasts 'coloniali...   \n",
       "\n",
       "                                                text  label  \n",
       "0  WASHINGTON (Reuters) - Democratic U.S. preside...      1  "
      ]
     },
     "execution_count": 5,
     "metadata": {},
     "output_type": "execute_result"
    }
   ],
   "source": [
    "eval.head(1)"
   ]
  },
  {
   "cell_type": "code",
   "execution_count": 6,
   "id": "edbf6083",
   "metadata": {
    "execution": {
     "iopub.execute_input": "2024-11-11T00:18:36.482088Z",
     "iopub.status.busy": "2024-11-11T00:18:36.481149Z",
     "iopub.status.idle": "2024-11-11T00:18:36.488059Z",
     "shell.execute_reply": "2024-11-11T00:18:36.487122Z"
    },
    "papermill": {
     "duration": 0.019321,
     "end_time": "2024-11-11T00:18:36.490261",
     "exception": false,
     "start_time": "2024-11-11T00:18:36.470940",
     "status": "completed"
    },
    "tags": []
   },
   "outputs": [
    {
     "data": {
      "text/plain": [
       "((24353, 4), (8117, 4), (8117, 4))"
      ]
     },
     "execution_count": 6,
     "metadata": {},
     "output_type": "execute_result"
    }
   ],
   "source": [
    "train.shape, test.shape, eval.shape"
   ]
  },
  {
   "cell_type": "code",
   "execution_count": 7,
   "id": "a17ff227",
   "metadata": {
    "execution": {
     "iopub.execute_input": "2024-11-11T00:18:36.508806Z",
     "iopub.status.busy": "2024-11-11T00:18:36.508054Z",
     "iopub.status.idle": "2024-11-11T00:18:36.517160Z",
     "shell.execute_reply": "2024-11-11T00:18:36.516266Z"
    },
    "papermill": {
     "duration": 0.021122,
     "end_time": "2024-11-11T00:18:36.519533",
     "exception": false,
     "start_time": "2024-11-11T00:18:36.498411",
     "status": "completed"
    },
    "tags": []
   },
   "outputs": [],
   "source": [
    "data = pd.concat([train, test, eval], axis=0)"
   ]
  },
  {
   "cell_type": "code",
   "execution_count": 8,
   "id": "db72131c",
   "metadata": {
    "execution": {
     "iopub.execute_input": "2024-11-11T00:18:36.538556Z",
     "iopub.status.busy": "2024-11-11T00:18:36.538140Z",
     "iopub.status.idle": "2024-11-11T00:18:36.544832Z",
     "shell.execute_reply": "2024-11-11T00:18:36.543784Z"
    },
    "papermill": {
     "duration": 0.01904,
     "end_time": "2024-11-11T00:18:36.547242",
     "exception": false,
     "start_time": "2024-11-11T00:18:36.528202",
     "status": "completed"
    },
    "tags": []
   },
   "outputs": [
    {
     "data": {
      "text/plain": [
       "(40587, 4)"
      ]
     },
     "execution_count": 8,
     "metadata": {},
     "output_type": "execute_result"
    }
   ],
   "source": [
    "data.shape"
   ]
  },
  {
   "cell_type": "code",
   "execution_count": 9,
   "id": "9ae44f61",
   "metadata": {
    "execution": {
     "iopub.execute_input": "2024-11-11T00:18:36.566603Z",
     "iopub.status.busy": "2024-11-11T00:18:36.566177Z",
     "iopub.status.idle": "2024-11-11T00:18:36.578190Z",
     "shell.execute_reply": "2024-11-11T00:18:36.577187Z"
    },
    "papermill": {
     "duration": 0.024701,
     "end_time": "2024-11-11T00:18:36.580642",
     "exception": false,
     "start_time": "2024-11-11T00:18:36.555941",
     "status": "completed"
    },
    "tags": []
   },
   "outputs": [
    {
     "data": {
      "text/html": [
       "<div>\n",
       "<style scoped>\n",
       "    .dataframe tbody tr th:only-of-type {\n",
       "        vertical-align: middle;\n",
       "    }\n",
       "\n",
       "    .dataframe tbody tr th {\n",
       "        vertical-align: top;\n",
       "    }\n",
       "\n",
       "    .dataframe thead th {\n",
       "        text-align: right;\n",
       "    }\n",
       "</style>\n",
       "<table border=\"1\" class=\"dataframe\">\n",
       "  <thead>\n",
       "    <tr style=\"text-align: right;\">\n",
       "      <th></th>\n",
       "      <th>Unnamed: 0</th>\n",
       "      <th>title</th>\n",
       "      <th>text</th>\n",
       "      <th>label</th>\n",
       "    </tr>\n",
       "  </thead>\n",
       "  <tbody>\n",
       "    <tr>\n",
       "      <th>0</th>\n",
       "      <td>0</td>\n",
       "      <td>Palestinians switch off Christmas lights in Be...</td>\n",
       "      <td>RAMALLAH, West Bank (Reuters) - Palestinians s...</td>\n",
       "      <td>1</td>\n",
       "    </tr>\n",
       "    <tr>\n",
       "      <th>1</th>\n",
       "      <td>1</td>\n",
       "      <td>China says Trump call with Taiwan president wo...</td>\n",
       "      <td>BEIJING (Reuters) - U.S. President-elect Donal...</td>\n",
       "      <td>1</td>\n",
       "    </tr>\n",
       "    <tr>\n",
       "      <th>2</th>\n",
       "      <td>2</td>\n",
       "      <td>FAIL! The Trump Organization’s Credit Score W...</td>\n",
       "      <td>While the controversy over Trump s personal ta...</td>\n",
       "      <td>0</td>\n",
       "    </tr>\n",
       "    <tr>\n",
       "      <th>3</th>\n",
       "      <td>3</td>\n",
       "      <td>Zimbabwe military chief's China trip was norma...</td>\n",
       "      <td>BEIJING (Reuters) - A trip to Beijing last wee...</td>\n",
       "      <td>1</td>\n",
       "    </tr>\n",
       "    <tr>\n",
       "      <th>4</th>\n",
       "      <td>4</td>\n",
       "      <td>THE MOST UNCOURAGEOUS PRESIDENT EVER Receives ...</td>\n",
       "      <td>There has never been a more UNCOURAGEOUS perso...</td>\n",
       "      <td>0</td>\n",
       "    </tr>\n",
       "  </tbody>\n",
       "</table>\n",
       "</div>"
      ],
      "text/plain": [
       "   Unnamed: 0                                              title  \\\n",
       "0           0  Palestinians switch off Christmas lights in Be...   \n",
       "1           1  China says Trump call with Taiwan president wo...   \n",
       "2           2   FAIL! The Trump Organization’s Credit Score W...   \n",
       "3           3  Zimbabwe military chief's China trip was norma...   \n",
       "4           4  THE MOST UNCOURAGEOUS PRESIDENT EVER Receives ...   \n",
       "\n",
       "                                                text  label  \n",
       "0  RAMALLAH, West Bank (Reuters) - Palestinians s...      1  \n",
       "1  BEIJING (Reuters) - U.S. President-elect Donal...      1  \n",
       "2  While the controversy over Trump s personal ta...      0  \n",
       "3  BEIJING (Reuters) - A trip to Beijing last wee...      1  \n",
       "4  There has never been a more UNCOURAGEOUS perso...      0  "
      ]
     },
     "execution_count": 9,
     "metadata": {},
     "output_type": "execute_result"
    }
   ],
   "source": [
    "data.head(5)"
   ]
  },
  {
   "cell_type": "code",
   "execution_count": 10,
   "id": "a1948675",
   "metadata": {
    "execution": {
     "iopub.execute_input": "2024-11-11T00:18:36.601083Z",
     "iopub.status.busy": "2024-11-11T00:18:36.600101Z",
     "iopub.status.idle": "2024-11-11T00:18:36.609171Z",
     "shell.execute_reply": "2024-11-11T00:18:36.607756Z"
    },
    "papermill": {
     "duration": 0.021632,
     "end_time": "2024-11-11T00:18:36.611476",
     "exception": false,
     "start_time": "2024-11-11T00:18:36.589844",
     "status": "completed"
    },
    "tags": []
   },
   "outputs": [
    {
     "data": {
      "text/plain": [
       "Index(['Unnamed: 0', 'title', 'text', 'label'], dtype='object')"
      ]
     },
     "execution_count": 10,
     "metadata": {},
     "output_type": "execute_result"
    }
   ],
   "source": [
    "data.columns"
   ]
  },
  {
   "cell_type": "code",
   "execution_count": 11,
   "id": "d63bde59",
   "metadata": {
    "execution": {
     "iopub.execute_input": "2024-11-11T00:18:36.636820Z",
     "iopub.status.busy": "2024-11-11T00:18:36.635761Z",
     "iopub.status.idle": "2024-11-11T00:18:36.651609Z",
     "shell.execute_reply": "2024-11-11T00:18:36.648921Z"
    },
    "papermill": {
     "duration": 0.033017,
     "end_time": "2024-11-11T00:18:36.655251",
     "exception": false,
     "start_time": "2024-11-11T00:18:36.622234",
     "status": "completed"
    },
    "tags": []
   },
   "outputs": [
    {
     "data": {
      "text/plain": [
       "0          0\n",
       "1          1\n",
       "2          2\n",
       "3          3\n",
       "4          4\n",
       "        ... \n",
       "8112    8112\n",
       "8113    8113\n",
       "8114    8114\n",
       "8115    8115\n",
       "8116    8116\n",
       "Name: Unnamed: 0, Length: 40587, dtype: int64"
      ]
     },
     "execution_count": 11,
     "metadata": {},
     "output_type": "execute_result"
    }
   ],
   "source": [
    "data.pop('Unnamed: 0')"
   ]
  },
  {
   "cell_type": "code",
   "execution_count": 12,
   "id": "292f0516",
   "metadata": {
    "execution": {
     "iopub.execute_input": "2024-11-11T00:18:36.681335Z",
     "iopub.status.busy": "2024-11-11T00:18:36.680399Z",
     "iopub.status.idle": "2024-11-11T00:18:36.688473Z",
     "shell.execute_reply": "2024-11-11T00:18:36.687239Z"
    },
    "papermill": {
     "duration": 0.021368,
     "end_time": "2024-11-11T00:18:36.690996",
     "exception": false,
     "start_time": "2024-11-11T00:18:36.669628",
     "status": "completed"
    },
    "tags": []
   },
   "outputs": [
    {
     "data": {
      "text/plain": [
       "Index(['title', 'text', 'label'], dtype='object')"
      ]
     },
     "execution_count": 12,
     "metadata": {},
     "output_type": "execute_result"
    }
   ],
   "source": [
    "data.columns"
   ]
  },
  {
   "cell_type": "code",
   "execution_count": 13,
   "id": "809174e6",
   "metadata": {
    "execution": {
     "iopub.execute_input": "2024-11-11T00:18:36.711871Z",
     "iopub.status.busy": "2024-11-11T00:18:36.711435Z",
     "iopub.status.idle": "2024-11-11T00:18:36.724171Z",
     "shell.execute_reply": "2024-11-11T00:18:36.722619Z"
    },
    "papermill": {
     "duration": 0.026566,
     "end_time": "2024-11-11T00:18:36.727242",
     "exception": false,
     "start_time": "2024-11-11T00:18:36.700676",
     "status": "completed"
    },
    "tags": []
   },
   "outputs": [
    {
     "data": {
      "text/html": [
       "<div>\n",
       "<style scoped>\n",
       "    .dataframe tbody tr th:only-of-type {\n",
       "        vertical-align: middle;\n",
       "    }\n",
       "\n",
       "    .dataframe tbody tr th {\n",
       "        vertical-align: top;\n",
       "    }\n",
       "\n",
       "    .dataframe thead th {\n",
       "        text-align: right;\n",
       "    }\n",
       "</style>\n",
       "<table border=\"1\" class=\"dataframe\">\n",
       "  <thead>\n",
       "    <tr style=\"text-align: right;\">\n",
       "      <th></th>\n",
       "      <th>title</th>\n",
       "      <th>text</th>\n",
       "      <th>label</th>\n",
       "    </tr>\n",
       "  </thead>\n",
       "  <tbody>\n",
       "    <tr>\n",
       "      <th>0</th>\n",
       "      <td>Palestinians switch off Christmas lights in Be...</td>\n",
       "      <td>RAMALLAH, West Bank (Reuters) - Palestinians s...</td>\n",
       "      <td>1</td>\n",
       "    </tr>\n",
       "  </tbody>\n",
       "</table>\n",
       "</div>"
      ],
      "text/plain": [
       "                                               title  \\\n",
       "0  Palestinians switch off Christmas lights in Be...   \n",
       "\n",
       "                                                text  label  \n",
       "0  RAMALLAH, West Bank (Reuters) - Palestinians s...      1  "
      ]
     },
     "execution_count": 13,
     "metadata": {},
     "output_type": "execute_result"
    }
   ],
   "source": [
    "data.head(1)"
   ]
  },
  {
   "cell_type": "code",
   "execution_count": 14,
   "id": "18d06af6",
   "metadata": {
    "execution": {
     "iopub.execute_input": "2024-11-11T00:18:36.755332Z",
     "iopub.status.busy": "2024-11-11T00:18:36.753679Z",
     "iopub.status.idle": "2024-11-11T00:19:18.095246Z",
     "shell.execute_reply": "2024-11-11T00:19:18.094036Z"
    },
    "papermill": {
     "duration": 41.358055,
     "end_time": "2024-11-11T00:19:18.097947",
     "exception": false,
     "start_time": "2024-11-11T00:18:36.739892",
     "status": "completed"
    },
    "tags": []
   },
   "outputs": [],
   "source": [
    "def processText(text):\n",
    "    text = text.lower()\n",
    "    text = re.sub('\\[.*?\\]', '', text)\n",
    "    text = re.sub(\"\\\\W\",\" \",text)\n",
    "    text = re.sub('https?://\\S+|www\\.\\S+', '', text)\n",
    "    text = re.sub('<.*?>+', '', text)\n",
    "    text = re.sub('[%s]' % re.escape(string.punctuation), '', text)\n",
    "    text = re.sub('\\n', '', text)\n",
    "    text = re.sub('\\w*\\d\\w*', '', text)\n",
    "    return text\n",
    "\n",
    "data['title'] = data['title'].apply(processText)\n",
    "data['text'] = data['text'].apply(processText)"
   ]
  },
  {
   "cell_type": "code",
   "execution_count": 15,
   "id": "19267b8d",
   "metadata": {
    "execution": {
     "iopub.execute_input": "2024-11-11T00:19:18.119593Z",
     "iopub.status.busy": "2024-11-11T00:19:18.119187Z",
     "iopub.status.idle": "2024-11-11T00:19:18.130693Z",
     "shell.execute_reply": "2024-11-11T00:19:18.129512Z"
    },
    "papermill": {
     "duration": 0.024985,
     "end_time": "2024-11-11T00:19:18.133124",
     "exception": false,
     "start_time": "2024-11-11T00:19:18.108139",
     "status": "completed"
    },
    "tags": []
   },
   "outputs": [
    {
     "data": {
      "text/html": [
       "<div>\n",
       "<style scoped>\n",
       "    .dataframe tbody tr th:only-of-type {\n",
       "        vertical-align: middle;\n",
       "    }\n",
       "\n",
       "    .dataframe tbody tr th {\n",
       "        vertical-align: top;\n",
       "    }\n",
       "\n",
       "    .dataframe thead th {\n",
       "        text-align: right;\n",
       "    }\n",
       "</style>\n",
       "<table border=\"1\" class=\"dataframe\">\n",
       "  <thead>\n",
       "    <tr style=\"text-align: right;\">\n",
       "      <th></th>\n",
       "      <th>title</th>\n",
       "      <th>text</th>\n",
       "      <th>label</th>\n",
       "    </tr>\n",
       "  </thead>\n",
       "  <tbody>\n",
       "    <tr>\n",
       "      <th>0</th>\n",
       "      <td>palestinians switch off christmas lights in be...</td>\n",
       "      <td>ramallah  west bank  reuters    palestinians s...</td>\n",
       "      <td>1</td>\n",
       "    </tr>\n",
       "    <tr>\n",
       "      <th>1</th>\n",
       "      <td>china says trump call with taiwan president wo...</td>\n",
       "      <td>beijing  reuters    u s  president elect donal...</td>\n",
       "      <td>1</td>\n",
       "    </tr>\n",
       "    <tr>\n",
       "      <th>2</th>\n",
       "      <td>fail  the trump organization s credit score w...</td>\n",
       "      <td>while the controversy over trump s personal ta...</td>\n",
       "      <td>0</td>\n",
       "    </tr>\n",
       "    <tr>\n",
       "      <th>3</th>\n",
       "      <td>zimbabwe military chief s china trip was norma...</td>\n",
       "      <td>beijing  reuters    a trip to beijing last wee...</td>\n",
       "      <td>1</td>\n",
       "    </tr>\n",
       "    <tr>\n",
       "      <th>4</th>\n",
       "      <td>the most uncourageous president ever receives ...</td>\n",
       "      <td>there has never been a more uncourageous perso...</td>\n",
       "      <td>0</td>\n",
       "    </tr>\n",
       "  </tbody>\n",
       "</table>\n",
       "</div>"
      ],
      "text/plain": [
       "                                               title  \\\n",
       "0  palestinians switch off christmas lights in be...   \n",
       "1  china says trump call with taiwan president wo...   \n",
       "2   fail  the trump organization s credit score w...   \n",
       "3  zimbabwe military chief s china trip was norma...   \n",
       "4  the most uncourageous president ever receives ...   \n",
       "\n",
       "                                                text  label  \n",
       "0  ramallah  west bank  reuters    palestinians s...      1  \n",
       "1  beijing  reuters    u s  president elect donal...      1  \n",
       "2  while the controversy over trump s personal ta...      0  \n",
       "3  beijing  reuters    a trip to beijing last wee...      1  \n",
       "4  there has never been a more uncourageous perso...      0  "
      ]
     },
     "execution_count": 15,
     "metadata": {},
     "output_type": "execute_result"
    }
   ],
   "source": [
    "data.head(5)"
   ]
  },
  {
   "cell_type": "code",
   "execution_count": 16,
   "id": "c207b670",
   "metadata": {
    "execution": {
     "iopub.execute_input": "2024-11-11T00:19:18.155180Z",
     "iopub.status.busy": "2024-11-11T00:19:18.154241Z",
     "iopub.status.idle": "2024-11-11T00:19:18.167229Z",
     "shell.execute_reply": "2024-11-11T00:19:18.166210Z"
    },
    "papermill": {
     "duration": 0.026519,
     "end_time": "2024-11-11T00:19:18.169687",
     "exception": false,
     "start_time": "2024-11-11T00:19:18.143168",
     "status": "completed"
    },
    "tags": []
   },
   "outputs": [],
   "source": [
    "y = data.pop('label')\n",
    "X = data.copy()"
   ]
  },
  {
   "cell_type": "code",
   "execution_count": 17,
   "id": "b37f641a",
   "metadata": {
    "execution": {
     "iopub.execute_input": "2024-11-11T00:19:18.192174Z",
     "iopub.status.busy": "2024-11-11T00:19:18.191433Z",
     "iopub.status.idle": "2024-11-11T00:19:18.202607Z",
     "shell.execute_reply": "2024-11-11T00:19:18.201504Z"
    },
    "papermill": {
     "duration": 0.025204,
     "end_time": "2024-11-11T00:19:18.205039",
     "exception": false,
     "start_time": "2024-11-11T00:19:18.179835",
     "status": "completed"
    },
    "tags": []
   },
   "outputs": [
    {
     "data": {
      "text/html": [
       "<div>\n",
       "<style scoped>\n",
       "    .dataframe tbody tr th:only-of-type {\n",
       "        vertical-align: middle;\n",
       "    }\n",
       "\n",
       "    .dataframe tbody tr th {\n",
       "        vertical-align: top;\n",
       "    }\n",
       "\n",
       "    .dataframe thead th {\n",
       "        text-align: right;\n",
       "    }\n",
       "</style>\n",
       "<table border=\"1\" class=\"dataframe\">\n",
       "  <thead>\n",
       "    <tr style=\"text-align: right;\">\n",
       "      <th></th>\n",
       "      <th>title</th>\n",
       "      <th>text</th>\n",
       "    </tr>\n",
       "  </thead>\n",
       "  <tbody>\n",
       "    <tr>\n",
       "      <th>0</th>\n",
       "      <td>palestinians switch off christmas lights in be...</td>\n",
       "      <td>ramallah  west bank  reuters    palestinians s...</td>\n",
       "    </tr>\n",
       "    <tr>\n",
       "      <th>1</th>\n",
       "      <td>china says trump call with taiwan president wo...</td>\n",
       "      <td>beijing  reuters    u s  president elect donal...</td>\n",
       "    </tr>\n",
       "  </tbody>\n",
       "</table>\n",
       "</div>"
      ],
      "text/plain": [
       "                                               title  \\\n",
       "0  palestinians switch off christmas lights in be...   \n",
       "1  china says trump call with taiwan president wo...   \n",
       "\n",
       "                                                text  \n",
       "0  ramallah  west bank  reuters    palestinians s...  \n",
       "1  beijing  reuters    u s  president elect donal...  "
      ]
     },
     "execution_count": 17,
     "metadata": {},
     "output_type": "execute_result"
    }
   ],
   "source": [
    "X.head(2)"
   ]
  },
  {
   "cell_type": "code",
   "execution_count": 18,
   "id": "2635aeb0",
   "metadata": {
    "execution": {
     "iopub.execute_input": "2024-11-11T00:19:18.227866Z",
     "iopub.status.busy": "2024-11-11T00:19:18.226920Z",
     "iopub.status.idle": "2024-11-11T00:19:18.234594Z",
     "shell.execute_reply": "2024-11-11T00:19:18.233620Z"
    },
    "papermill": {
     "duration": 0.021429,
     "end_time": "2024-11-11T00:19:18.236746",
     "exception": false,
     "start_time": "2024-11-11T00:19:18.215317",
     "status": "completed"
    },
    "tags": []
   },
   "outputs": [
    {
     "data": {
      "text/plain": [
       "0    1\n",
       "1    1\n",
       "Name: label, dtype: int64"
      ]
     },
     "execution_count": 18,
     "metadata": {},
     "output_type": "execute_result"
    }
   ],
   "source": [
    "y.head(2)"
   ]
  },
  {
   "cell_type": "code",
   "execution_count": 19,
   "id": "7783d354",
   "metadata": {
    "execution": {
     "iopub.execute_input": "2024-11-11T00:19:18.260116Z",
     "iopub.status.busy": "2024-11-11T00:19:18.258988Z",
     "iopub.status.idle": "2024-11-11T00:19:18.274296Z",
     "shell.execute_reply": "2024-11-11T00:19:18.273388Z"
    },
    "papermill": {
     "duration": 0.029601,
     "end_time": "2024-11-11T00:19:18.276744",
     "exception": false,
     "start_time": "2024-11-11T00:19:18.247143",
     "status": "completed"
    },
    "tags": []
   },
   "outputs": [],
   "source": [
    "X_train, X_test, y_train, y_test = train_test_split(X, y, test_size=0.20, random_state=1)"
   ]
  },
  {
   "cell_type": "code",
   "execution_count": 20,
   "id": "3e07d3d2",
   "metadata": {
    "execution": {
     "iopub.execute_input": "2024-11-11T00:19:18.299967Z",
     "iopub.status.busy": "2024-11-11T00:19:18.298880Z",
     "iopub.status.idle": "2024-11-11T00:19:18.305782Z",
     "shell.execute_reply": "2024-11-11T00:19:18.304780Z"
    },
    "papermill": {
     "duration": 0.020972,
     "end_time": "2024-11-11T00:19:18.308084",
     "exception": false,
     "start_time": "2024-11-11T00:19:18.287112",
     "status": "completed"
    },
    "tags": []
   },
   "outputs": [
    {
     "data": {
      "text/plain": [
       "(8118, 2)"
      ]
     },
     "execution_count": 20,
     "metadata": {},
     "output_type": "execute_result"
    }
   ],
   "source": [
    "X_test.shape"
   ]
  },
  {
   "cell_type": "code",
   "execution_count": 21,
   "id": "8b00895d",
   "metadata": {
    "execution": {
     "iopub.execute_input": "2024-11-11T00:19:18.331280Z",
     "iopub.status.busy": "2024-11-11T00:19:18.330529Z",
     "iopub.status.idle": "2024-11-11T00:19:18.337596Z",
     "shell.execute_reply": "2024-11-11T00:19:18.336509Z"
    },
    "papermill": {
     "duration": 0.021167,
     "end_time": "2024-11-11T00:19:18.339981",
     "exception": false,
     "start_time": "2024-11-11T00:19:18.318814",
     "status": "completed"
    },
    "tags": []
   },
   "outputs": [
    {
     "data": {
      "text/plain": [
       "(32469, 2)"
      ]
     },
     "execution_count": 21,
     "metadata": {},
     "output_type": "execute_result"
    }
   ],
   "source": [
    "X_train.shape"
   ]
  },
  {
   "cell_type": "code",
   "execution_count": 22,
   "id": "d48a51dc",
   "metadata": {
    "execution": {
     "iopub.execute_input": "2024-11-11T00:19:18.362792Z",
     "iopub.status.busy": "2024-11-11T00:19:18.362342Z",
     "iopub.status.idle": "2024-11-11T00:19:39.205197Z",
     "shell.execute_reply": "2024-11-11T00:19:39.204015Z"
    },
    "papermill": {
     "duration": 20.857378,
     "end_time": "2024-11-11T00:19:39.207830",
     "exception": false,
     "start_time": "2024-11-11T00:19:18.350452",
     "status": "completed"
    },
    "tags": []
   },
   "outputs": [],
   "source": [
    "vectorizer = TfidfVectorizer()\n",
    "\n",
    "x1 = data['title']\n",
    "x2 = data['text']\n",
    "\n",
    "x1 = vectorizer.fit_transform(x1)\n",
    "x2 = vectorizer.fit_transform(x2)"
   ]
  },
  {
   "cell_type": "code",
   "execution_count": 23,
   "id": "1b9e470e",
   "metadata": {
    "execution": {
     "iopub.execute_input": "2024-11-11T00:19:39.230963Z",
     "iopub.status.busy": "2024-11-11T00:19:39.230515Z",
     "iopub.status.idle": "2024-11-11T00:19:39.325878Z",
     "shell.execute_reply": "2024-11-11T00:19:39.324665Z"
    },
    "papermill": {
     "duration": 0.110183,
     "end_time": "2024-11-11T00:19:39.328776",
     "exception": false,
     "start_time": "2024-11-11T00:19:39.218593",
     "status": "completed"
    },
    "tags": []
   },
   "outputs": [
    {
     "name": "stdout",
     "output_type": "stream",
     "text": [
      "<Compressed Sparse Row sparse matrix of dtype 'float64'\n",
      "\twith 462777 stored elements and shape (40587, 21957)>\n",
      "  Coords\tValues\n",
      "  (0, 15134)\t0.28048603804808064\n",
      "  (0, 20109)\t0.0947399050053756\n",
      "  (0, 796)\t0.2296976525426388\n",
      "  (0, 1856)\t0.452850125517141\n",
      "  (0, 9768)\t0.23423121676979106\n",
      "  (0, 11319)\t0.3862363283425796\n",
      "  (0, 3382)\t0.32017270978871587\n",
      "  (0, 13416)\t0.23936559392075724\n",
      "  (0, 19123)\t0.40419389524091154\n",
      "  (0, 13857)\t0.35678531956577586\n",
      "  (1, 18539)\t0.4216083059177137\n",
      "  (1, 10277)\t0.42301839619671605\n",
      "  (1, 3169)\t0.3259489800781733\n",
      "  (1, 21630)\t0.30027763207752456\n",
      "  (1, 14858)\t0.23450032476667315\n",
      "  (1, 19197)\t0.3778105737844253\n",
      "  (1, 21590)\t0.18550428684481954\n",
      "  (1, 2786)\t0.3156293330893364\n",
      "  (1, 16977)\t0.18388110740091607\n",
      "  (1, 3329)\t0.2617670019370966\n",
      "  (1, 20109)\t0.11310749592722615\n",
      "  (2, 11014)\t0.3917276089634742\n",
      "  (2, 21834)\t0.23410664639395265\n",
      "  (2, 11733)\t0.2726642206124024\n",
      "  (2, 21522)\t0.21104879383573125\n",
      "  :\t:\n",
      "  (40584, 20938)\t0.1731570600742336\n",
      "  (40584, 13499)\t0.14220055788347719\n",
      "  (40584, 10489)\t0.30256887610288413\n",
      "  (40584, 19531)\t0.14994340251540106\n",
      "  (40584, 20109)\t0.10371404217824734\n",
      "  (40585, 1597)\t0.3388667349520661\n",
      "  (40585, 12574)\t0.4132561390128892\n",
      "  (40585, 21660)\t0.29954852814522065\n",
      "  (40585, 429)\t0.2678586939556264\n",
      "  (40585, 21925)\t0.3536372013579567\n",
      "  (40585, 5033)\t0.3536372013579567\n",
      "  (40585, 364)\t0.2691207363975048\n",
      "  (40585, 18516)\t0.2074048237041274\n",
      "  (40585, 19156)\t0.2334412846338165\n",
      "  (40585, 12106)\t0.22263505388500193\n",
      "  (40585, 467)\t0.2885976892772848\n",
      "  (40586, 10269)\t0.39306886193581514\n",
      "  (40586, 15454)\t0.39611814979405474\n",
      "  (40586, 15960)\t0.3637915922040737\n",
      "  (40586, 21597)\t0.42483459886263647\n",
      "  (40586, 13470)\t0.30816589538722844\n",
      "  (40586, 21804)\t0.34411315887872046\n",
      "  (40586, 20938)\t0.18326619365097366\n",
      "  (40586, 7916)\t0.21497996644180042\n",
      "  (40586, 12318)\t0.287359623696733\n",
      "<Compressed Sparse Row sparse matrix of dtype 'float64'\n",
      "\twith 8396995 stored elements and shape (40587, 123232)>\n",
      "  Coords\tValues\n",
      "  (0, 80715)\t0.11399379400480227\n",
      "  (0, 91591)\t0.09129456339169088\n",
      "  (0, 17881)\t0.06682700628957351\n",
      "  (0, 5082)\t0.028526548075540236\n",
      "  (0, 38722)\t0.015112229985440508\n",
      "  (0, 90637)\t0.08833369333345815\n",
      "  (0, 83969)\t0.04313867276352976\n",
      "  (0, 2520)\t0.07662680460618099\n",
      "  (0, 117033)\t0.0716368337403158\n",
      "  (0, 3375)\t0.023892532140870806\n",
      "  (0, 73141)\t0.046466874239693354\n",
      "  (0, 114110)\t0.029563146734132916\n",
      "  (0, 114066)\t0.046182568221701914\n",
      "  (0, 34618)\t0.048249263975087435\n",
      "  (0, 89800)\t0.04897891587635513\n",
      "  (0, 117064)\t0.0849584082227868\n",
      "  (0, 51268)\t0.09307631748335923\n",
      "  (0, 15792)\t0.046249894762546984\n",
      "  (0, 21598)\t0.06438918180796743\n",
      "  (0, 31394)\t0.05003211285994793\n",
      "  (0, 68801)\t0.04842784359852541\n",
      "  (0, 947)\t0.043850729227514706\n",
      "  (0, 72167)\t0.05240393259429105\n",
      "  (0, 5546)\t0.09129456339169088\n",
      "  (0, 60394)\t0.07618956913447465\n",
      "  :\t:\n",
      "  (40586, 4057)\t0.04899394840220554\n",
      "  (40586, 74047)\t0.017436625590777764\n",
      "  (40586, 44993)\t0.07444576426971543\n",
      "  (40586, 118019)\t0.019507569321528192\n",
      "  (40586, 9587)\t0.02381926631474041\n",
      "  (40586, 53717)\t0.09767837732553405\n",
      "  (40586, 46442)\t0.01206390584054789\n",
      "  (40586, 67565)\t0.023814790336286695\n",
      "  (40586, 94299)\t0.13282107228615128\n",
      "  (40586, 118851)\t0.047471497465395716\n",
      "  (40586, 99877)\t0.0794264070439295\n",
      "  (40586, 4180)\t0.045637096946284976\n",
      "  (40586, 117995)\t0.11428539082485537\n",
      "  (40586, 108272)\t0.2622773107877525\n",
      "  (40586, 76855)\t0.10858711491140835\n",
      "  (40586, 6237)\t0.04556138298462456\n",
      "  (40586, 109791)\t0.0626819675993057\n",
      "  (40586, 111602)\t0.01455105255050276\n",
      "  (40586, 29723)\t0.015866655482495474\n",
      "  (40586, 84861)\t0.01409506209568754\n",
      "  (40586, 77413)\t0.06445600204048046\n",
      "  (40586, 51158)\t0.11849548341217009\n",
      "  (40586, 6762)\t0.024253180455050555\n",
      "  (40586, 76867)\t0.047951023610455036\n",
      "  (40586, 91464)\t0.02818691214525748\n"
     ]
    }
   ],
   "source": [
    "print(x1)\n",
    "print(x2)"
   ]
  }
 ],
 "metadata": {
  "kaggle": {
   "accelerator": "none",
   "dataSources": [
    {
     "datasetId": 5926278,
     "sourceId": 9693156,
     "sourceType": "datasetVersion"
    }
   ],
   "dockerImageVersionId": 30786,
   "isGpuEnabled": false,
   "isInternetEnabled": true,
   "language": "python",
   "sourceType": "notebook"
  },
  "kernelspec": {
   "display_name": "Python 3",
   "language": "python",
   "name": "python3"
  },
  "language_info": {
   "codemirror_mode": {
    "name": "ipython",
    "version": 3
   },
   "file_extension": ".py",
   "mimetype": "text/x-python",
   "name": "python",
   "nbconvert_exporter": "python",
   "pygments_lexer": "ipython3",
   "version": "3.10.14"
  },
  "papermill": {
   "default_parameters": {},
   "duration": 72.394939,
   "end_time": "2024-11-11T00:19:40.061335",
   "environment_variables": {},
   "exception": null,
   "input_path": "__notebook__.ipynb",
   "output_path": "__notebook__.ipynb",
   "parameters": {},
   "start_time": "2024-11-11T00:18:27.666396",
   "version": "2.6.0"
  }
 },
 "nbformat": 4,
 "nbformat_minor": 5
}
