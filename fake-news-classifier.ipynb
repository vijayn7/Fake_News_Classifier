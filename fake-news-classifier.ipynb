{
 "cells": [
  {
   "cell_type": "code",
   "execution_count": 1,
   "id": "fd5ebd2f",
   "metadata": {
    "execution": {
     "iopub.execute_input": "2024-11-10T23:46:38.608376Z",
     "iopub.status.busy": "2024-11-10T23:46:38.607837Z",
     "iopub.status.idle": "2024-11-10T23:46:41.451397Z",
     "shell.execute_reply": "2024-11-10T23:46:41.450084Z"
    },
    "papermill": {
     "duration": 2.852564,
     "end_time": "2024-11-10T23:46:41.453935",
     "exception": false,
     "start_time": "2024-11-10T23:46:38.601371",
     "status": "completed"
    },
    "tags": []
   },
   "outputs": [],
   "source": [
    "import pandas as pd\n",
    "import numpy as np\n",
    "import matplotlib.pyplot as plt\n",
    "import seaborn as sns\n",
    "\n",
    "from sklearn.model_selection import train_test_split\n",
    "from sklearn.metrics import classification_report, accuracy_score, f1_score\n",
    "import re\n",
    "import string"
   ]
  },
  {
   "cell_type": "code",
   "execution_count": 2,
   "id": "516aaeee",
   "metadata": {
    "execution": {
     "iopub.execute_input": "2024-11-10T23:46:41.464660Z",
     "iopub.status.busy": "2024-11-10T23:46:41.464092Z",
     "iopub.status.idle": "2024-11-10T23:46:44.057220Z",
     "shell.execute_reply": "2024-11-10T23:46:44.056233Z"
    },
    "papermill": {
     "duration": 2.601174,
     "end_time": "2024-11-10T23:46:44.059639",
     "exception": false,
     "start_time": "2024-11-10T23:46:41.458465",
     "status": "completed"
    },
    "tags": []
   },
   "outputs": [],
   "source": [
    "train = pd.read_csv('/kaggle/input/fake-news-classification/train (2).csv', sep=';')\n",
    "test = pd.read_csv('/kaggle/input/fake-news-classification/test (1).csv', sep=';')\n",
    "eval = pd.read_csv('/kaggle/input/fake-news-classification/evaluation.csv', sep=';')"
   ]
  },
  {
   "cell_type": "code",
   "execution_count": 3,
   "id": "0489fecb",
   "metadata": {
    "execution": {
     "iopub.execute_input": "2024-11-10T23:46:44.070641Z",
     "iopub.status.busy": "2024-11-10T23:46:44.070231Z",
     "iopub.status.idle": "2024-11-10T23:46:44.090352Z",
     "shell.execute_reply": "2024-11-10T23:46:44.089379Z"
    },
    "papermill": {
     "duration": 0.028006,
     "end_time": "2024-11-10T23:46:44.092514",
     "exception": false,
     "start_time": "2024-11-10T23:46:44.064508",
     "status": "completed"
    },
    "tags": []
   },
   "outputs": [
    {
     "data": {
      "text/html": [
       "<div>\n",
       "<style scoped>\n",
       "    .dataframe tbody tr th:only-of-type {\n",
       "        vertical-align: middle;\n",
       "    }\n",
       "\n",
       "    .dataframe tbody tr th {\n",
       "        vertical-align: top;\n",
       "    }\n",
       "\n",
       "    .dataframe thead th {\n",
       "        text-align: right;\n",
       "    }\n",
       "</style>\n",
       "<table border=\"1\" class=\"dataframe\">\n",
       "  <thead>\n",
       "    <tr style=\"text-align: right;\">\n",
       "      <th></th>\n",
       "      <th>Unnamed: 0</th>\n",
       "      <th>title</th>\n",
       "      <th>text</th>\n",
       "      <th>label</th>\n",
       "    </tr>\n",
       "  </thead>\n",
       "  <tbody>\n",
       "    <tr>\n",
       "      <th>0</th>\n",
       "      <td>0</td>\n",
       "      <td>Palestinians switch off Christmas lights in Be...</td>\n",
       "      <td>RAMALLAH, West Bank (Reuters) - Palestinians s...</td>\n",
       "      <td>1</td>\n",
       "    </tr>\n",
       "  </tbody>\n",
       "</table>\n",
       "</div>"
      ],
      "text/plain": [
       "   Unnamed: 0                                              title  \\\n",
       "0           0  Palestinians switch off Christmas lights in Be...   \n",
       "\n",
       "                                                text  label  \n",
       "0  RAMALLAH, West Bank (Reuters) - Palestinians s...      1  "
      ]
     },
     "execution_count": 3,
     "metadata": {},
     "output_type": "execute_result"
    }
   ],
   "source": [
    "train.head(1)"
   ]
  },
  {
   "cell_type": "code",
   "execution_count": 4,
   "id": "32bc820c",
   "metadata": {
    "execution": {
     "iopub.execute_input": "2024-11-10T23:46:44.103445Z",
     "iopub.status.busy": "2024-11-10T23:46:44.102337Z",
     "iopub.status.idle": "2024-11-10T23:46:44.113150Z",
     "shell.execute_reply": "2024-11-10T23:46:44.112152Z"
    },
    "papermill": {
     "duration": 0.018423,
     "end_time": "2024-11-10T23:46:44.115321",
     "exception": false,
     "start_time": "2024-11-10T23:46:44.096898",
     "status": "completed"
    },
    "tags": []
   },
   "outputs": [
    {
     "data": {
      "text/html": [
       "<div>\n",
       "<style scoped>\n",
       "    .dataframe tbody tr th:only-of-type {\n",
       "        vertical-align: middle;\n",
       "    }\n",
       "\n",
       "    .dataframe tbody tr th {\n",
       "        vertical-align: top;\n",
       "    }\n",
       "\n",
       "    .dataframe thead th {\n",
       "        text-align: right;\n",
       "    }\n",
       "</style>\n",
       "<table border=\"1\" class=\"dataframe\">\n",
       "  <thead>\n",
       "    <tr style=\"text-align: right;\">\n",
       "      <th></th>\n",
       "      <th>Unnamed: 0</th>\n",
       "      <th>title</th>\n",
       "      <th>text</th>\n",
       "      <th>label</th>\n",
       "    </tr>\n",
       "  </thead>\n",
       "  <tbody>\n",
       "    <tr>\n",
       "      <th>0</th>\n",
       "      <td>0</td>\n",
       "      <td>Live from New York, it's a Trump-Clinton remat...</td>\n",
       "      <td>NEW YORK (Reuters) - Veteran actor and frequen...</td>\n",
       "      <td>1</td>\n",
       "    </tr>\n",
       "  </tbody>\n",
       "</table>\n",
       "</div>"
      ],
      "text/plain": [
       "   Unnamed: 0                                              title  \\\n",
       "0           0  Live from New York, it's a Trump-Clinton remat...   \n",
       "\n",
       "                                                text  label  \n",
       "0  NEW YORK (Reuters) - Veteran actor and frequen...      1  "
      ]
     },
     "execution_count": 4,
     "metadata": {},
     "output_type": "execute_result"
    }
   ],
   "source": [
    "test.head(1)"
   ]
  },
  {
   "cell_type": "code",
   "execution_count": 5,
   "id": "005d8dac",
   "metadata": {
    "execution": {
     "iopub.execute_input": "2024-11-10T23:46:44.126394Z",
     "iopub.status.busy": "2024-11-10T23:46:44.125580Z",
     "iopub.status.idle": "2024-11-10T23:46:44.135557Z",
     "shell.execute_reply": "2024-11-10T23:46:44.134505Z"
    },
    "papermill": {
     "duration": 0.017978,
     "end_time": "2024-11-10T23:46:44.137895",
     "exception": false,
     "start_time": "2024-11-10T23:46:44.119917",
     "status": "completed"
    },
    "tags": []
   },
   "outputs": [
    {
     "data": {
      "text/html": [
       "<div>\n",
       "<style scoped>\n",
       "    .dataframe tbody tr th:only-of-type {\n",
       "        vertical-align: middle;\n",
       "    }\n",
       "\n",
       "    .dataframe tbody tr th {\n",
       "        vertical-align: top;\n",
       "    }\n",
       "\n",
       "    .dataframe thead th {\n",
       "        text-align: right;\n",
       "    }\n",
       "</style>\n",
       "<table border=\"1\" class=\"dataframe\">\n",
       "  <thead>\n",
       "    <tr style=\"text-align: right;\">\n",
       "      <th></th>\n",
       "      <th>Unnamed: 0</th>\n",
       "      <th>title</th>\n",
       "      <th>text</th>\n",
       "      <th>label</th>\n",
       "    </tr>\n",
       "  </thead>\n",
       "  <tbody>\n",
       "    <tr>\n",
       "      <th>0</th>\n",
       "      <td>0</td>\n",
       "      <td>Sanders back in U.S. Senate, blasts 'coloniali...</td>\n",
       "      <td>WASHINGTON (Reuters) - Democratic U.S. preside...</td>\n",
       "      <td>1</td>\n",
       "    </tr>\n",
       "  </tbody>\n",
       "</table>\n",
       "</div>"
      ],
      "text/plain": [
       "   Unnamed: 0                                              title  \\\n",
       "0           0  Sanders back in U.S. Senate, blasts 'coloniali...   \n",
       "\n",
       "                                                text  label  \n",
       "0  WASHINGTON (Reuters) - Democratic U.S. preside...      1  "
      ]
     },
     "execution_count": 5,
     "metadata": {},
     "output_type": "execute_result"
    }
   ],
   "source": [
    "eval.head(1)"
   ]
  },
  {
   "cell_type": "code",
   "execution_count": 6,
   "id": "8406afd5",
   "metadata": {
    "execution": {
     "iopub.execute_input": "2024-11-10T23:46:44.149807Z",
     "iopub.status.busy": "2024-11-10T23:46:44.148861Z",
     "iopub.status.idle": "2024-11-10T23:46:44.156127Z",
     "shell.execute_reply": "2024-11-10T23:46:44.155096Z"
    },
    "papermill": {
     "duration": 0.015819,
     "end_time": "2024-11-10T23:46:44.158319",
     "exception": false,
     "start_time": "2024-11-10T23:46:44.142500",
     "status": "completed"
    },
    "tags": []
   },
   "outputs": [
    {
     "data": {
      "text/plain": [
       "((24353, 4), (8117, 4), (8117, 4))"
      ]
     },
     "execution_count": 6,
     "metadata": {},
     "output_type": "execute_result"
    }
   ],
   "source": [
    "train.shape, test.shape, eval.shape"
   ]
  },
  {
   "cell_type": "code",
   "execution_count": 7,
   "id": "bd77ef00",
   "metadata": {
    "execution": {
     "iopub.execute_input": "2024-11-10T23:46:44.169920Z",
     "iopub.status.busy": "2024-11-10T23:46:44.169131Z",
     "iopub.status.idle": "2024-11-10T23:46:44.177617Z",
     "shell.execute_reply": "2024-11-10T23:46:44.176711Z"
    },
    "papermill": {
     "duration": 0.017119,
     "end_time": "2024-11-10T23:46:44.180328",
     "exception": false,
     "start_time": "2024-11-10T23:46:44.163209",
     "status": "completed"
    },
    "tags": []
   },
   "outputs": [],
   "source": [
    "data = pd.concat([train, test, eval], axis=0)"
   ]
  },
  {
   "cell_type": "code",
   "execution_count": 8,
   "id": "583a1556",
   "metadata": {
    "execution": {
     "iopub.execute_input": "2024-11-10T23:46:44.191856Z",
     "iopub.status.busy": "2024-11-10T23:46:44.191445Z",
     "iopub.status.idle": "2024-11-10T23:46:44.198339Z",
     "shell.execute_reply": "2024-11-10T23:46:44.197173Z"
    },
    "papermill": {
     "duration": 0.015084,
     "end_time": "2024-11-10T23:46:44.200451",
     "exception": false,
     "start_time": "2024-11-10T23:46:44.185367",
     "status": "completed"
    },
    "tags": []
   },
   "outputs": [
    {
     "data": {
      "text/plain": [
       "(40587, 4)"
      ]
     },
     "execution_count": 8,
     "metadata": {},
     "output_type": "execute_result"
    }
   ],
   "source": [
    "data.shape"
   ]
  },
  {
   "cell_type": "code",
   "execution_count": 9,
   "id": "6b686fbf",
   "metadata": {
    "execution": {
     "iopub.execute_input": "2024-11-10T23:46:44.213276Z",
     "iopub.status.busy": "2024-11-10T23:46:44.212436Z",
     "iopub.status.idle": "2024-11-10T23:46:44.223252Z",
     "shell.execute_reply": "2024-11-10T23:46:44.222216Z"
    },
    "papermill": {
     "duration": 0.019428,
     "end_time": "2024-11-10T23:46:44.225751",
     "exception": false,
     "start_time": "2024-11-10T23:46:44.206323",
     "status": "completed"
    },
    "tags": []
   },
   "outputs": [
    {
     "data": {
      "text/html": [
       "<div>\n",
       "<style scoped>\n",
       "    .dataframe tbody tr th:only-of-type {\n",
       "        vertical-align: middle;\n",
       "    }\n",
       "\n",
       "    .dataframe tbody tr th {\n",
       "        vertical-align: top;\n",
       "    }\n",
       "\n",
       "    .dataframe thead th {\n",
       "        text-align: right;\n",
       "    }\n",
       "</style>\n",
       "<table border=\"1\" class=\"dataframe\">\n",
       "  <thead>\n",
       "    <tr style=\"text-align: right;\">\n",
       "      <th></th>\n",
       "      <th>Unnamed: 0</th>\n",
       "      <th>title</th>\n",
       "      <th>text</th>\n",
       "      <th>label</th>\n",
       "    </tr>\n",
       "  </thead>\n",
       "  <tbody>\n",
       "    <tr>\n",
       "      <th>0</th>\n",
       "      <td>0</td>\n",
       "      <td>Palestinians switch off Christmas lights in Be...</td>\n",
       "      <td>RAMALLAH, West Bank (Reuters) - Palestinians s...</td>\n",
       "      <td>1</td>\n",
       "    </tr>\n",
       "    <tr>\n",
       "      <th>1</th>\n",
       "      <td>1</td>\n",
       "      <td>China says Trump call with Taiwan president wo...</td>\n",
       "      <td>BEIJING (Reuters) - U.S. President-elect Donal...</td>\n",
       "      <td>1</td>\n",
       "    </tr>\n",
       "    <tr>\n",
       "      <th>2</th>\n",
       "      <td>2</td>\n",
       "      <td>FAIL! The Trump Organization’s Credit Score W...</td>\n",
       "      <td>While the controversy over Trump s personal ta...</td>\n",
       "      <td>0</td>\n",
       "    </tr>\n",
       "    <tr>\n",
       "      <th>3</th>\n",
       "      <td>3</td>\n",
       "      <td>Zimbabwe military chief's China trip was norma...</td>\n",
       "      <td>BEIJING (Reuters) - A trip to Beijing last wee...</td>\n",
       "      <td>1</td>\n",
       "    </tr>\n",
       "    <tr>\n",
       "      <th>4</th>\n",
       "      <td>4</td>\n",
       "      <td>THE MOST UNCOURAGEOUS PRESIDENT EVER Receives ...</td>\n",
       "      <td>There has never been a more UNCOURAGEOUS perso...</td>\n",
       "      <td>0</td>\n",
       "    </tr>\n",
       "  </tbody>\n",
       "</table>\n",
       "</div>"
      ],
      "text/plain": [
       "   Unnamed: 0                                              title  \\\n",
       "0           0  Palestinians switch off Christmas lights in Be...   \n",
       "1           1  China says Trump call with Taiwan president wo...   \n",
       "2           2   FAIL! The Trump Organization’s Credit Score W...   \n",
       "3           3  Zimbabwe military chief's China trip was norma...   \n",
       "4           4  THE MOST UNCOURAGEOUS PRESIDENT EVER Receives ...   \n",
       "\n",
       "                                                text  label  \n",
       "0  RAMALLAH, West Bank (Reuters) - Palestinians s...      1  \n",
       "1  BEIJING (Reuters) - U.S. President-elect Donal...      1  \n",
       "2  While the controversy over Trump s personal ta...      0  \n",
       "3  BEIJING (Reuters) - A trip to Beijing last wee...      1  \n",
       "4  There has never been a more UNCOURAGEOUS perso...      0  "
      ]
     },
     "execution_count": 9,
     "metadata": {},
     "output_type": "execute_result"
    }
   ],
   "source": [
    "data.head(5)"
   ]
  },
  {
   "cell_type": "code",
   "execution_count": 10,
   "id": "2bc8db49",
   "metadata": {
    "execution": {
     "iopub.execute_input": "2024-11-10T23:46:44.237891Z",
     "iopub.status.busy": "2024-11-10T23:46:44.237122Z",
     "iopub.status.idle": "2024-11-10T23:46:44.244070Z",
     "shell.execute_reply": "2024-11-10T23:46:44.243104Z"
    },
    "papermill": {
     "duration": 0.015371,
     "end_time": "2024-11-10T23:46:44.246240",
     "exception": false,
     "start_time": "2024-11-10T23:46:44.230869",
     "status": "completed"
    },
    "tags": []
   },
   "outputs": [
    {
     "data": {
      "text/plain": [
       "Index(['Unnamed: 0', 'title', 'text', 'label'], dtype='object')"
      ]
     },
     "execution_count": 10,
     "metadata": {},
     "output_type": "execute_result"
    }
   ],
   "source": [
    "data.columns"
   ]
  },
  {
   "cell_type": "code",
   "execution_count": 11,
   "id": "478a8859",
   "metadata": {
    "execution": {
     "iopub.execute_input": "2024-11-10T23:46:44.258812Z",
     "iopub.status.busy": "2024-11-10T23:46:44.257879Z",
     "iopub.status.idle": "2024-11-10T23:46:44.271248Z",
     "shell.execute_reply": "2024-11-10T23:46:44.270101Z"
    },
    "papermill": {
     "duration": 0.021945,
     "end_time": "2024-11-10T23:46:44.273399",
     "exception": false,
     "start_time": "2024-11-10T23:46:44.251454",
     "status": "completed"
    },
    "tags": []
   },
   "outputs": [
    {
     "data": {
      "text/plain": [
       "0          0\n",
       "1          1\n",
       "2          2\n",
       "3          3\n",
       "4          4\n",
       "        ... \n",
       "8112    8112\n",
       "8113    8113\n",
       "8114    8114\n",
       "8115    8115\n",
       "8116    8116\n",
       "Name: Unnamed: 0, Length: 40587, dtype: int64"
      ]
     },
     "execution_count": 11,
     "metadata": {},
     "output_type": "execute_result"
    }
   ],
   "source": [
    "data.pop('Unnamed: 0')"
   ]
  },
  {
   "cell_type": "code",
   "execution_count": 12,
   "id": "270fb082",
   "metadata": {
    "execution": {
     "iopub.execute_input": "2024-11-10T23:46:44.285599Z",
     "iopub.status.busy": "2024-11-10T23:46:44.285194Z",
     "iopub.status.idle": "2024-11-10T23:46:44.291918Z",
     "shell.execute_reply": "2024-11-10T23:46:44.290983Z"
    },
    "papermill": {
     "duration": 0.015287,
     "end_time": "2024-11-10T23:46:44.293994",
     "exception": false,
     "start_time": "2024-11-10T23:46:44.278707",
     "status": "completed"
    },
    "tags": []
   },
   "outputs": [
    {
     "data": {
      "text/plain": [
       "Index(['title', 'text', 'label'], dtype='object')"
      ]
     },
     "execution_count": 12,
     "metadata": {},
     "output_type": "execute_result"
    }
   ],
   "source": [
    "data.columns"
   ]
  },
  {
   "cell_type": "code",
   "execution_count": 13,
   "id": "e16af137",
   "metadata": {
    "execution": {
     "iopub.execute_input": "2024-11-10T23:46:44.306535Z",
     "iopub.status.busy": "2024-11-10T23:46:44.305831Z",
     "iopub.status.idle": "2024-11-10T23:46:44.315922Z",
     "shell.execute_reply": "2024-11-10T23:46:44.314973Z"
    },
    "papermill": {
     "duration": 0.018592,
     "end_time": "2024-11-10T23:46:44.318008",
     "exception": false,
     "start_time": "2024-11-10T23:46:44.299416",
     "status": "completed"
    },
    "tags": []
   },
   "outputs": [
    {
     "data": {
      "text/html": [
       "<div>\n",
       "<style scoped>\n",
       "    .dataframe tbody tr th:only-of-type {\n",
       "        vertical-align: middle;\n",
       "    }\n",
       "\n",
       "    .dataframe tbody tr th {\n",
       "        vertical-align: top;\n",
       "    }\n",
       "\n",
       "    .dataframe thead th {\n",
       "        text-align: right;\n",
       "    }\n",
       "</style>\n",
       "<table border=\"1\" class=\"dataframe\">\n",
       "  <thead>\n",
       "    <tr style=\"text-align: right;\">\n",
       "      <th></th>\n",
       "      <th>title</th>\n",
       "      <th>text</th>\n",
       "      <th>label</th>\n",
       "    </tr>\n",
       "  </thead>\n",
       "  <tbody>\n",
       "    <tr>\n",
       "      <th>0</th>\n",
       "      <td>Palestinians switch off Christmas lights in Be...</td>\n",
       "      <td>RAMALLAH, West Bank (Reuters) - Palestinians s...</td>\n",
       "      <td>1</td>\n",
       "    </tr>\n",
       "  </tbody>\n",
       "</table>\n",
       "</div>"
      ],
      "text/plain": [
       "                                               title  \\\n",
       "0  Palestinians switch off Christmas lights in Be...   \n",
       "\n",
       "                                                text  label  \n",
       "0  RAMALLAH, West Bank (Reuters) - Palestinians s...      1  "
      ]
     },
     "execution_count": 13,
     "metadata": {},
     "output_type": "execute_result"
    }
   ],
   "source": [
    "data.head(1)"
   ]
  },
  {
   "cell_type": "code",
   "execution_count": 14,
   "id": "7a06efe0",
   "metadata": {
    "execution": {
     "iopub.execute_input": "2024-11-10T23:46:44.330894Z",
     "iopub.status.busy": "2024-11-10T23:46:44.330205Z",
     "iopub.status.idle": "2024-11-10T23:47:07.071938Z",
     "shell.execute_reply": "2024-11-10T23:47:07.070681Z"
    },
    "papermill": {
     "duration": 22.751202,
     "end_time": "2024-11-10T23:47:07.074716",
     "exception": false,
     "start_time": "2024-11-10T23:46:44.323514",
     "status": "completed"
    },
    "tags": []
   },
   "outputs": [],
   "source": [
    "def processText(text):\n",
    "    text = text.lower()\n",
    "    text = re.sub('\\[.*?\\]', '', text)\n",
    "    text = re.sub(\"\\\\W\",\" \",text)\n",
    "    text = re.sub('https?://\\S+|www\\.\\S+', '', text)\n",
    "    text = re.sub('<.*?>+', '', text)\n",
    "    text = re.sub('[%s]' % re.escape(string.punctuation), '', text)\n",
    "    text = re.sub('\\n', '', text)\n",
    "    text = re.sub('\\w*\\d\\w*', '', text)\n",
    "    return text\n",
    "\n",
    "data['title'] = data['title'].apply(processText)\n",
    "data['text'] = data['text'].apply(processText)"
   ]
  },
  {
   "cell_type": "code",
   "execution_count": 15,
   "id": "0beee0a0",
   "metadata": {
    "execution": {
     "iopub.execute_input": "2024-11-10T23:47:07.087806Z",
     "iopub.status.busy": "2024-11-10T23:47:07.087388Z",
     "iopub.status.idle": "2024-11-10T23:47:07.097858Z",
     "shell.execute_reply": "2024-11-10T23:47:07.096853Z"
    },
    "papermill": {
     "duration": 0.019403,
     "end_time": "2024-11-10T23:47:07.099939",
     "exception": false,
     "start_time": "2024-11-10T23:47:07.080536",
     "status": "completed"
    },
    "tags": []
   },
   "outputs": [
    {
     "data": {
      "text/html": [
       "<div>\n",
       "<style scoped>\n",
       "    .dataframe tbody tr th:only-of-type {\n",
       "        vertical-align: middle;\n",
       "    }\n",
       "\n",
       "    .dataframe tbody tr th {\n",
       "        vertical-align: top;\n",
       "    }\n",
       "\n",
       "    .dataframe thead th {\n",
       "        text-align: right;\n",
       "    }\n",
       "</style>\n",
       "<table border=\"1\" class=\"dataframe\">\n",
       "  <thead>\n",
       "    <tr style=\"text-align: right;\">\n",
       "      <th></th>\n",
       "      <th>title</th>\n",
       "      <th>text</th>\n",
       "      <th>label</th>\n",
       "    </tr>\n",
       "  </thead>\n",
       "  <tbody>\n",
       "    <tr>\n",
       "      <th>0</th>\n",
       "      <td>palestinians switch off christmas lights in be...</td>\n",
       "      <td>ramallah  west bank  reuters    palestinians s...</td>\n",
       "      <td>1</td>\n",
       "    </tr>\n",
       "    <tr>\n",
       "      <th>1</th>\n",
       "      <td>china says trump call with taiwan president wo...</td>\n",
       "      <td>beijing  reuters    u s  president elect donal...</td>\n",
       "      <td>1</td>\n",
       "    </tr>\n",
       "    <tr>\n",
       "      <th>2</th>\n",
       "      <td>fail  the trump organization s credit score w...</td>\n",
       "      <td>while the controversy over trump s personal ta...</td>\n",
       "      <td>0</td>\n",
       "    </tr>\n",
       "    <tr>\n",
       "      <th>3</th>\n",
       "      <td>zimbabwe military chief s china trip was norma...</td>\n",
       "      <td>beijing  reuters    a trip to beijing last wee...</td>\n",
       "      <td>1</td>\n",
       "    </tr>\n",
       "    <tr>\n",
       "      <th>4</th>\n",
       "      <td>the most uncourageous president ever receives ...</td>\n",
       "      <td>there has never been a more uncourageous perso...</td>\n",
       "      <td>0</td>\n",
       "    </tr>\n",
       "  </tbody>\n",
       "</table>\n",
       "</div>"
      ],
      "text/plain": [
       "                                               title  \\\n",
       "0  palestinians switch off christmas lights in be...   \n",
       "1  china says trump call with taiwan president wo...   \n",
       "2   fail  the trump organization s credit score w...   \n",
       "3  zimbabwe military chief s china trip was norma...   \n",
       "4  the most uncourageous president ever receives ...   \n",
       "\n",
       "                                                text  label  \n",
       "0  ramallah  west bank  reuters    palestinians s...      1  \n",
       "1  beijing  reuters    u s  president elect donal...      1  \n",
       "2  while the controversy over trump s personal ta...      0  \n",
       "3  beijing  reuters    a trip to beijing last wee...      1  \n",
       "4  there has never been a more uncourageous perso...      0  "
      ]
     },
     "execution_count": 15,
     "metadata": {},
     "output_type": "execute_result"
    }
   ],
   "source": [
    "data.head(5)"
   ]
  }
 ],
 "metadata": {
  "kaggle": {
   "accelerator": "none",
   "dataSources": [
    {
     "datasetId": 5926278,
     "sourceId": 9693156,
     "sourceType": "datasetVersion"
    }
   ],
   "dockerImageVersionId": 30786,
   "isGpuEnabled": false,
   "isInternetEnabled": true,
   "language": "python",
   "sourceType": "notebook"
  },
  "kernelspec": {
   "display_name": "Python 3",
   "language": "python",
   "name": "python3"
  },
  "language_info": {
   "codemirror_mode": {
    "name": "ipython",
    "version": 3
   },
   "file_extension": ".py",
   "mimetype": "text/x-python",
   "name": "python",
   "nbconvert_exporter": "python",
   "pygments_lexer": "ipython3",
   "version": "3.10.14"
  },
  "papermill": {
   "default_parameters": {},
   "duration": 31.932898,
   "end_time": "2024-11-10T23:47:07.726941",
   "environment_variables": {},
   "exception": null,
   "input_path": "__notebook__.ipynb",
   "output_path": "__notebook__.ipynb",
   "parameters": {},
   "start_time": "2024-11-10T23:46:35.794043",
   "version": "2.6.0"
  }
 },
 "nbformat": 4,
 "nbformat_minor": 5
}
