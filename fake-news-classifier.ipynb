{
 "cells": [
  {
   "cell_type": "code",
   "execution_count": 1,
   "id": "8f3ead5e",
   "metadata": {
    "_cell_guid": "c45f82fe-3307-4553-bcd3-e539cb6e8ac0",
    "_uuid": "9234c202-9d56-462b-bd5a-273e48b0605d",
    "collapsed": false,
    "execution": {
     "iopub.execute_input": "2024-11-09T04:01:55.576385Z",
     "iopub.status.busy": "2024-11-09T04:01:55.575913Z",
     "iopub.status.idle": "2024-11-09T04:01:56.700636Z",
     "shell.execute_reply": "2024-11-09T04:01:56.698825Z"
    },
    "jupyter": {
     "outputs_hidden": false
    },
    "papermill": {
     "duration": 1.132927,
     "end_time": "2024-11-09T04:01:56.703717",
     "exception": false,
     "start_time": "2024-11-09T04:01:55.570790",
     "status": "completed"
    },
    "tags": []
   },
   "outputs": [
    {
     "name": "stdout",
     "output_type": "stream",
     "text": [
      "/kaggle/input/fake-news-classification/train (2).csv\n",
      "/kaggle/input/fake-news-classification/evaluation.csv\n",
      "/kaggle/input/fake-news-classification/test (1).csv\n"
     ]
    }
   ],
   "source": [
    "# This Python 3 environment comes with many helpful analytics libraries installed\n",
    "# It is defined by the kaggle/python Docker image: https://github.com/kaggle/docker-python\n",
    "# For example, here's several helpful packages to load\n",
    "\n",
    "import numpy as np # linear algebra\n",
    "import pandas as pd # data processing, CSV file I/O (e.g. pd.read_csv)\n",
    "\n",
    "# Input data files are available in the read-only \"../input/\" directory\n",
    "# For example, running this (by clicking run or pressing Shift+Enter) will list all files under the input directory\n",
    "\n",
    "import os\n",
    "for dirname, _, filenames in os.walk('/kaggle/input'):\n",
    "    for filename in filenames:\n",
    "        print(os.path.join(dirname, filename))\n",
    "\n",
    "# You can write up to 20GB to the current directory (/kaggle/working/) that gets preserved as output when you create a version using \"Save & Run All\" \n",
    "# You can also write temporary files to /kaggle/temp/, but they won't be saved outside of the current session"
   ]
  },
  {
   "cell_type": "code",
   "execution_count": 2,
   "id": "afa27ff6",
   "metadata": {
    "execution": {
     "iopub.execute_input": "2024-11-09T04:01:56.711932Z",
     "iopub.status.busy": "2024-11-09T04:01:56.711346Z",
     "iopub.status.idle": "2024-11-09T04:01:59.660353Z",
     "shell.execute_reply": "2024-11-09T04:01:59.658845Z"
    },
    "papermill": {
     "duration": 2.956573,
     "end_time": "2024-11-09T04:01:59.663648",
     "exception": false,
     "start_time": "2024-11-09T04:01:56.707075",
     "status": "completed"
    },
    "tags": []
   },
   "outputs": [
    {
     "name": "stdout",
     "output_type": "stream",
     "text": [
      "   Unnamed: 0                                              title  \\\n",
      "0           0  Sanders back in U.S. Senate, blasts 'coloniali...   \n",
      "1           1  Kremlin: Syria peoples' congress being 'active...   \n",
      "2           2   Oregon Cop Convicted Of Shattering Biker’s Co...   \n",
      "3           3   Twitter Erupts With Glee Over #CruzSexScandal...   \n",
      "4           4  MUST WATCH VIDEO: Obama Tries To Trash Trump B...   \n",
      "\n",
      "                                                text  label  \n",
      "0  WASHINGTON (Reuters) - Democratic U.S. preside...      1  \n",
      "1  MOSCOW (Reuters) - A proposal to convene a con...      1  \n",
      "2  In a baffling fit of rage, an Oregon State Pol...      0  \n",
      "3  The last thing any politician running for the ...      0  \n",
      "4  This is too good to miss! Mr. Teleprompter did...      0  \n",
      "   Unnamed: 0                                              title  \\\n",
      "0           0  Live from New York, it's a Trump-Clinton remat...   \n",
      "1           1  Catalan separatists to lose majority in tight ...   \n",
      "2           2  North Carolina governor concedes election to D...   \n",
      "3           3  Draft Senate Iran legislation sets tough new U...   \n",
      "4           4  California governor taps U.S. Representative B...   \n",
      "\n",
      "                                                text  label  \n",
      "0  NEW YORK (Reuters) - Veteran actor and frequen...      1  \n",
      "1  BARCELONA (Reuters) - Catalonia s independence...      1  \n",
      "2  WINSTON-SALEM, N.C. (Reuters) - North Carolina...      1  \n",
      "3  WASHINGTON (Reuters) - Draft legislation respo...      1  \n",
      "4  SACRAMENTO, Calif. (Reuters) - California Gove...      1  \n",
      "   Unnamed: 0                                              title  \\\n",
      "0           0  Palestinians switch off Christmas lights in Be...   \n",
      "1           1  China says Trump call with Taiwan president wo...   \n",
      "2           2   FAIL! The Trump Organization’s Credit Score W...   \n",
      "3           3  Zimbabwe military chief's China trip was norma...   \n",
      "4           4  THE MOST UNCOURAGEOUS PRESIDENT EVER Receives ...   \n",
      "\n",
      "                                                text  label  \n",
      "0  RAMALLAH, West Bank (Reuters) - Palestinians s...      1  \n",
      "1  BEIJING (Reuters) - U.S. President-elect Donal...      1  \n",
      "2  While the controversy over Trump s personal ta...      0  \n",
      "3  BEIJING (Reuters) - A trip to Beijing last wee...      1  \n",
      "4  There has never been a more UNCOURAGEOUS perso...      0  \n"
     ]
    }
   ],
   "source": [
    "\n",
    "#Read in all the data files. use ; as the seperator instead of a comma\n",
    "eval = pd.read_csv('/kaggle/input/fake-news-classification/evaluation.csv', sep=';')\n",
    "test = pd.read_csv('/kaggle/input/fake-news-classification/test (1).csv', sep=';')\n",
    "train = pd.read_csv('/kaggle/input/fake-news-classification/train (2).csv', sep=';')\n",
    "\n",
    "#print out the head of the data\n",
    "print(eval.head());\n",
    "print(test.head());\n",
    "print(train.head());"
   ]
  },
  {
   "cell_type": "code",
   "execution_count": 3,
   "id": "64d352fb",
   "metadata": {
    "execution": {
     "iopub.execute_input": "2024-11-09T04:01:59.673087Z",
     "iopub.status.busy": "2024-11-09T04:01:59.672658Z",
     "iopub.status.idle": "2024-11-09T04:01:59.687932Z",
     "shell.execute_reply": "2024-11-09T04:01:59.686594Z"
    },
    "papermill": {
     "duration": 0.023474,
     "end_time": "2024-11-09T04:01:59.690670",
     "exception": false,
     "start_time": "2024-11-09T04:01:59.667196",
     "status": "completed"
    },
    "tags": []
   },
   "outputs": [
    {
     "name": "stdout",
     "output_type": "stream",
     "text": [
      "0    1\n",
      "1    1\n",
      "2    0\n",
      "3    1\n",
      "4    0\n",
      "Name: label, dtype: int64\n",
      "Index(['title', 'text'], dtype='object')\n"
     ]
    }
   ],
   "source": [
    "#copy trainign data to X\n",
    "X = train.copy()\n",
    "\n",
    "#Remove serial number col\n",
    "X.pop('Unnamed: 0')\n",
    "\n",
    "#save labels to Y\n",
    "y = X.pop('label')\n",
    "\n",
    "#Print out data\n",
    "print(y.head())\n",
    "print(X.columns)"
   ]
  },
  {
   "cell_type": "code",
   "execution_count": 4,
   "id": "6f7c6f46",
   "metadata": {
    "execution": {
     "iopub.execute_input": "2024-11-09T04:01:59.699042Z",
     "iopub.status.busy": "2024-11-09T04:01:59.698624Z",
     "iopub.status.idle": "2024-11-09T04:02:17.659489Z",
     "shell.execute_reply": "2024-11-09T04:02:17.658298Z"
    },
    "papermill": {
     "duration": 17.968589,
     "end_time": "2024-11-09T04:02:17.662562",
     "exception": false,
     "start_time": "2024-11-09T04:01:59.693973",
     "status": "completed"
    },
    "tags": []
   },
   "outputs": [],
   "source": [
    "#Get Number of inputs (2)\n",
    "input_Shape = [X.shape[1]]\n",
    "\n",
    "#Import libaries for the neural net\n",
    "from tensorflow import keras\n",
    "from tensorflow.keras import layers\n",
    "\n",
    "#Make a basic model\n",
    "model = keras.Sequential([\n",
    "    #Starting with a simple model here\n",
    "    layers.Dense(2, activation='relu'),\n",
    "    #use sigmoid as the activation function to easly sort into a binary decision\n",
    "    layers.Dense(1, activation='sigmoid'),\n",
    "])"
   ]
  }
 ],
 "metadata": {
  "kaggle": {
   "accelerator": "none",
   "dataSources": [
    {
     "datasetId": 5926278,
     "sourceId": 9693156,
     "sourceType": "datasetVersion"
    }
   ],
   "dockerImageVersionId": 30786,
   "isGpuEnabled": false,
   "isInternetEnabled": true,
   "language": "python",
   "sourceType": "notebook"
  },
  "kernelspec": {
   "display_name": "Python 3",
   "language": "python",
   "name": "python3"
  },
  "language_info": {
   "codemirror_mode": {
    "name": "ipython",
    "version": 3
   },
   "file_extension": ".py",
   "mimetype": "text/x-python",
   "name": "python",
   "nbconvert_exporter": "python",
   "pygments_lexer": "ipython3",
   "version": "3.10.14"
  },
  "papermill": {
   "default_parameters": {},
   "duration": 26.905159,
   "end_time": "2024-11-09T04:02:19.193689",
   "environment_variables": {},
   "exception": null,
   "input_path": "__notebook__.ipynb",
   "output_path": "__notebook__.ipynb",
   "parameters": {},
   "start_time": "2024-11-09T04:01:52.288530",
   "version": "2.6.0"
  }
 },
 "nbformat": 4,
 "nbformat_minor": 5
}
