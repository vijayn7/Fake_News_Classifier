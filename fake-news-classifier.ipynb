{
 "cells": [
  {
   "cell_type": "code",
   "execution_count": 1,
   "id": "bcf52d6d",
   "metadata": {
    "_cell_guid": "c45f82fe-3307-4553-bcd3-e539cb6e8ac0",
    "_uuid": "9234c202-9d56-462b-bd5a-273e48b0605d",
    "collapsed": false,
    "execution": {
     "iopub.execute_input": "2024-11-09T03:32:22.698963Z",
     "iopub.status.busy": "2024-11-09T03:32:22.697987Z",
     "iopub.status.idle": "2024-11-09T03:32:23.543230Z",
     "shell.execute_reply": "2024-11-09T03:32:23.542206Z"
    },
    "jupyter": {
     "outputs_hidden": false
    },
    "papermill": {
     "duration": 0.852032,
     "end_time": "2024-11-09T03:32:23.545716",
     "exception": false,
     "start_time": "2024-11-09T03:32:22.693684",
     "status": "completed"
    },
    "tags": []
   },
   "outputs": [
    {
     "name": "stdout",
     "output_type": "stream",
     "text": [
      "/kaggle/input/fake-news-classification/train (2).csv\n",
      "/kaggle/input/fake-news-classification/evaluation.csv\n",
      "/kaggle/input/fake-news-classification/test (1).csv\n"
     ]
    }
   ],
   "source": [
    "# This Python 3 environment comes with many helpful analytics libraries installed\n",
    "# It is defined by the kaggle/python Docker image: https://github.com/kaggle/docker-python\n",
    "# For example, here's several helpful packages to load\n",
    "\n",
    "import numpy as np # linear algebra\n",
    "import pandas as pd # data processing, CSV file I/O (e.g. pd.read_csv)\n",
    "\n",
    "# Input data files are available in the read-only \"../input/\" directory\n",
    "# For example, running this (by clicking run or pressing Shift+Enter) will list all files under the input directory\n",
    "\n",
    "import os\n",
    "for dirname, _, filenames in os.walk('/kaggle/input'):\n",
    "    for filename in filenames:\n",
    "        print(os.path.join(dirname, filename))\n",
    "\n",
    "# You can write up to 20GB to the current directory (/kaggle/working/) that gets preserved as output when you create a version using \"Save & Run All\" \n",
    "# You can also write temporary files to /kaggle/temp/, but they won't be saved outside of the current session"
   ]
  },
  {
   "cell_type": "code",
   "execution_count": 2,
   "id": "4a5f6325",
   "metadata": {
    "execution": {
     "iopub.execute_input": "2024-11-09T03:32:23.552167Z",
     "iopub.status.busy": "2024-11-09T03:32:23.551271Z",
     "iopub.status.idle": "2024-11-09T03:32:26.318994Z",
     "shell.execute_reply": "2024-11-09T03:32:26.317990Z"
    },
    "papermill": {
     "duration": 2.77339,
     "end_time": "2024-11-09T03:32:26.321633",
     "exception": false,
     "start_time": "2024-11-09T03:32:23.548243",
     "status": "completed"
    },
    "tags": []
   },
   "outputs": [
    {
     "name": "stdout",
     "output_type": "stream",
     "text": [
      "   Unnamed: 0                                              title  \\\n",
      "0           0  Sanders back in U.S. Senate, blasts 'coloniali...   \n",
      "1           1  Kremlin: Syria peoples' congress being 'active...   \n",
      "2           2   Oregon Cop Convicted Of Shattering Biker’s Co...   \n",
      "3           3   Twitter Erupts With Glee Over #CruzSexScandal...   \n",
      "4           4  MUST WATCH VIDEO: Obama Tries To Trash Trump B...   \n",
      "\n",
      "                                                text  label  \n",
      "0  WASHINGTON (Reuters) - Democratic U.S. preside...      1  \n",
      "1  MOSCOW (Reuters) - A proposal to convene a con...      1  \n",
      "2  In a baffling fit of rage, an Oregon State Pol...      0  \n",
      "3  The last thing any politician running for the ...      0  \n",
      "4  This is too good to miss! Mr. Teleprompter did...      0  \n",
      "   Unnamed: 0                                              title  \\\n",
      "0           0  Live from New York, it's a Trump-Clinton remat...   \n",
      "1           1  Catalan separatists to lose majority in tight ...   \n",
      "2           2  North Carolina governor concedes election to D...   \n",
      "3           3  Draft Senate Iran legislation sets tough new U...   \n",
      "4           4  California governor taps U.S. Representative B...   \n",
      "\n",
      "                                                text  label  \n",
      "0  NEW YORK (Reuters) - Veteran actor and frequen...      1  \n",
      "1  BARCELONA (Reuters) - Catalonia s independence...      1  \n",
      "2  WINSTON-SALEM, N.C. (Reuters) - North Carolina...      1  \n",
      "3  WASHINGTON (Reuters) - Draft legislation respo...      1  \n",
      "4  SACRAMENTO, Calif. (Reuters) - California Gove...      1  \n",
      "   Unnamed: 0                                              title  \\\n",
      "0           0  Palestinians switch off Christmas lights in Be...   \n",
      "1           1  China says Trump call with Taiwan president wo...   \n",
      "2           2   FAIL! The Trump Organization’s Credit Score W...   \n",
      "3           3  Zimbabwe military chief's China trip was norma...   \n",
      "4           4  THE MOST UNCOURAGEOUS PRESIDENT EVER Receives ...   \n",
      "\n",
      "                                                text  label  \n",
      "0  RAMALLAH, West Bank (Reuters) - Palestinians s...      1  \n",
      "1  BEIJING (Reuters) - U.S. President-elect Donal...      1  \n",
      "2  While the controversy over Trump s personal ta...      0  \n",
      "3  BEIJING (Reuters) - A trip to Beijing last wee...      1  \n",
      "4  There has never been a more UNCOURAGEOUS perso...      0  \n"
     ]
    }
   ],
   "source": [
    "import pandas as pd\n",
    "\n",
    "eval = pd.read_csv('/kaggle/input/fake-news-classification/evaluation.csv', sep=';')\n",
    "test = pd.read_csv('/kaggle/input/fake-news-classification/test (1).csv', sep=';')\n",
    "train = pd.read_csv('/kaggle/input/fake-news-classification/train (2).csv', sep=';')\n",
    "\n",
    "print(eval.head());\n",
    "print(test.head());\n",
    "print(train.head());"
   ]
  }
 ],
 "metadata": {
  "kaggle": {
   "accelerator": "none",
   "dataSources": [
    {
     "datasetId": 5926278,
     "sourceId": 9693156,
     "sourceType": "datasetVersion"
    }
   ],
   "dockerImageVersionId": 30786,
   "isGpuEnabled": false,
   "isInternetEnabled": true,
   "language": "python",
   "sourceType": "notebook"
  },
  "kernelspec": {
   "display_name": "Python 3",
   "language": "python",
   "name": "python3"
  },
  "language_info": {
   "codemirror_mode": {
    "name": "ipython",
    "version": 3
   },
   "file_extension": ".py",
   "mimetype": "text/x-python",
   "name": "python",
   "nbconvert_exporter": "python",
   "pygments_lexer": "ipython3",
   "version": "3.10.14"
  },
  "papermill": {
   "default_parameters": {},
   "duration": 6.854473,
   "end_time": "2024-11-09T03:32:26.744331",
   "environment_variables": {},
   "exception": null,
   "input_path": "__notebook__.ipynb",
   "output_path": "__notebook__.ipynb",
   "parameters": {},
   "start_time": "2024-11-09T03:32:19.889858",
   "version": "2.6.0"
  }
 },
 "nbformat": 4,
 "nbformat_minor": 5
}
