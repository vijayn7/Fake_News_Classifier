{
 "cells": [
  {
   "cell_type": "code",
   "execution_count": 1,
   "id": "2918538e",
   "metadata": {
    "execution": {
     "iopub.execute_input": "2024-11-09T04:23:11.598339Z",
     "iopub.status.busy": "2024-11-09T04:23:11.597489Z",
     "iopub.status.idle": "2024-11-09T04:23:14.113115Z",
     "shell.execute_reply": "2024-11-09T04:23:14.112017Z"
    },
    "papermill": {
     "duration": 2.521931,
     "end_time": "2024-11-09T04:23:14.115787",
     "exception": false,
     "start_time": "2024-11-09T04:23:11.593856",
     "status": "completed"
    },
    "tags": []
   },
   "outputs": [],
   "source": [
    "import pandas as pd\n",
    "import numpy as np\n",
    "import matplotlib.pyplot as plt\n",
    "import seaborn as sns\n",
    "\n",
    "from sklearn.model_selection import train_test_split\n",
    "from sklearn.metrics import classification_report, accuracy_score, f1_score\n",
    "import re\n",
    "import string"
   ]
  },
  {
   "cell_type": "code",
   "execution_count": null,
   "id": "15336ba6",
   "metadata": {
    "papermill": {
     "duration": 0.001315,
     "end_time": "2024-11-09T04:23:14.118950",
     "exception": false,
     "start_time": "2024-11-09T04:23:14.117635",
     "status": "completed"
    },
    "tags": []
   },
   "outputs": [],
   "source": []
  }
 ],
 "metadata": {
  "kaggle": {
   "accelerator": "none",
   "dataSources": [
    {
     "datasetId": 5926278,
     "sourceId": 9693156,
     "sourceType": "datasetVersion"
    }
   ],
   "dockerImageVersionId": 30786,
   "isGpuEnabled": false,
   "isInternetEnabled": true,
   "language": "python",
   "sourceType": "notebook"
  },
  "kernelspec": {
   "display_name": "Python 3",
   "language": "python",
   "name": "python3"
  },
  "language_info": {
   "codemirror_mode": {
    "name": "ipython",
    "version": 3
   },
   "file_extension": ".py",
   "mimetype": "text/x-python",
   "name": "python",
   "nbconvert_exporter": "python",
   "pygments_lexer": "ipython3",
   "version": "3.10.14"
  },
  "papermill": {
   "default_parameters": {},
   "duration": 5.653339,
   "end_time": "2024-11-09T04:23:14.639992",
   "environment_variables": {},
   "exception": null,
   "input_path": "__notebook__.ipynb",
   "output_path": "__notebook__.ipynb",
   "parameters": {},
   "start_time": "2024-11-09T04:23:08.986653",
   "version": "2.6.0"
  }
 },
 "nbformat": 4,
 "nbformat_minor": 5
}
