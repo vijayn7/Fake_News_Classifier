{
 "cells": [
  {
   "cell_type": "code",
   "execution_count": 1,
   "id": "b9be4c2e",
   "metadata": {
    "execution": {
     "iopub.execute_input": "2024-11-10T23:41:13.283932Z",
     "iopub.status.busy": "2024-11-10T23:41:13.282436Z",
     "iopub.status.idle": "2024-11-10T23:41:16.639429Z",
     "shell.execute_reply": "2024-11-10T23:41:16.638078Z"
    },
    "papermill": {
     "duration": 3.366832,
     "end_time": "2024-11-10T23:41:16.642199",
     "exception": false,
     "start_time": "2024-11-10T23:41:13.275367",
     "status": "completed"
    },
    "tags": []
   },
   "outputs": [],
   "source": [
    "import pandas as pd\n",
    "import numpy as np\n",
    "import matplotlib.pyplot as plt\n",
    "import seaborn as sns\n",
    "\n",
    "from sklearn.model_selection import train_test_split\n",
    "from sklearn.metrics import classification_report, accuracy_score, f1_score\n",
    "import re\n",
    "import string"
   ]
  },
  {
   "cell_type": "code",
   "execution_count": 2,
   "id": "2c43ba0a",
   "metadata": {
    "execution": {
     "iopub.execute_input": "2024-11-10T23:41:16.652264Z",
     "iopub.status.busy": "2024-11-10T23:41:16.651721Z",
     "iopub.status.idle": "2024-11-10T23:41:22.237974Z",
     "shell.execute_reply": "2024-11-10T23:41:22.236904Z"
    },
    "papermill": {
     "duration": 5.594241,
     "end_time": "2024-11-10T23:41:22.240693",
     "exception": false,
     "start_time": "2024-11-10T23:41:16.646452",
     "status": "completed"
    },
    "tags": []
   },
   "outputs": [],
   "source": [
    "train = pd.read_csv('/kaggle/input/fake-news-classification/train (2).csv', sep=';')\n",
    "test = pd.read_csv('/kaggle/input/fake-news-classification/test (1).csv', sep=';')\n",
    "eval = pd.read_csv('/kaggle/input/fake-news-classification/evaluation.csv', sep=';')"
   ]
  },
  {
   "cell_type": "code",
   "execution_count": 3,
   "id": "cdf45df0",
   "metadata": {
    "execution": {
     "iopub.execute_input": "2024-11-10T23:41:22.250700Z",
     "iopub.status.busy": "2024-11-10T23:41:22.249684Z",
     "iopub.status.idle": "2024-11-10T23:41:22.274118Z",
     "shell.execute_reply": "2024-11-10T23:41:22.272905Z"
    },
    "papermill": {
     "duration": 0.031817,
     "end_time": "2024-11-10T23:41:22.276407",
     "exception": false,
     "start_time": "2024-11-10T23:41:22.244590",
     "status": "completed"
    },
    "tags": []
   },
   "outputs": [
    {
     "data": {
      "text/html": [
       "<div>\n",
       "<style scoped>\n",
       "    .dataframe tbody tr th:only-of-type {\n",
       "        vertical-align: middle;\n",
       "    }\n",
       "\n",
       "    .dataframe tbody tr th {\n",
       "        vertical-align: top;\n",
       "    }\n",
       "\n",
       "    .dataframe thead th {\n",
       "        text-align: right;\n",
       "    }\n",
       "</style>\n",
       "<table border=\"1\" class=\"dataframe\">\n",
       "  <thead>\n",
       "    <tr style=\"text-align: right;\">\n",
       "      <th></th>\n",
       "      <th>Unnamed: 0</th>\n",
       "      <th>title</th>\n",
       "      <th>text</th>\n",
       "      <th>label</th>\n",
       "    </tr>\n",
       "  </thead>\n",
       "  <tbody>\n",
       "    <tr>\n",
       "      <th>0</th>\n",
       "      <td>0</td>\n",
       "      <td>Palestinians switch off Christmas lights in Be...</td>\n",
       "      <td>RAMALLAH, West Bank (Reuters) - Palestinians s...</td>\n",
       "      <td>1</td>\n",
       "    </tr>\n",
       "  </tbody>\n",
       "</table>\n",
       "</div>"
      ],
      "text/plain": [
       "   Unnamed: 0                                              title  \\\n",
       "0           0  Palestinians switch off Christmas lights in Be...   \n",
       "\n",
       "                                                text  label  \n",
       "0  RAMALLAH, West Bank (Reuters) - Palestinians s...      1  "
      ]
     },
     "execution_count": 3,
     "metadata": {},
     "output_type": "execute_result"
    }
   ],
   "source": [
    "train.head(1)"
   ]
  },
  {
   "cell_type": "code",
   "execution_count": 4,
   "id": "aa2f1a32",
   "metadata": {
    "execution": {
     "iopub.execute_input": "2024-11-10T23:41:22.286475Z",
     "iopub.status.busy": "2024-11-10T23:41:22.286070Z",
     "iopub.status.idle": "2024-11-10T23:41:22.297796Z",
     "shell.execute_reply": "2024-11-10T23:41:22.296671Z"
    },
    "papermill": {
     "duration": 0.019585,
     "end_time": "2024-11-10T23:41:22.300299",
     "exception": false,
     "start_time": "2024-11-10T23:41:22.280714",
     "status": "completed"
    },
    "tags": []
   },
   "outputs": [
    {
     "data": {
      "text/html": [
       "<div>\n",
       "<style scoped>\n",
       "    .dataframe tbody tr th:only-of-type {\n",
       "        vertical-align: middle;\n",
       "    }\n",
       "\n",
       "    .dataframe tbody tr th {\n",
       "        vertical-align: top;\n",
       "    }\n",
       "\n",
       "    .dataframe thead th {\n",
       "        text-align: right;\n",
       "    }\n",
       "</style>\n",
       "<table border=\"1\" class=\"dataframe\">\n",
       "  <thead>\n",
       "    <tr style=\"text-align: right;\">\n",
       "      <th></th>\n",
       "      <th>Unnamed: 0</th>\n",
       "      <th>title</th>\n",
       "      <th>text</th>\n",
       "      <th>label</th>\n",
       "    </tr>\n",
       "  </thead>\n",
       "  <tbody>\n",
       "    <tr>\n",
       "      <th>0</th>\n",
       "      <td>0</td>\n",
       "      <td>Live from New York, it's a Trump-Clinton remat...</td>\n",
       "      <td>NEW YORK (Reuters) - Veteran actor and frequen...</td>\n",
       "      <td>1</td>\n",
       "    </tr>\n",
       "  </tbody>\n",
       "</table>\n",
       "</div>"
      ],
      "text/plain": [
       "   Unnamed: 0                                              title  \\\n",
       "0           0  Live from New York, it's a Trump-Clinton remat...   \n",
       "\n",
       "                                                text  label  \n",
       "0  NEW YORK (Reuters) - Veteran actor and frequen...      1  "
      ]
     },
     "execution_count": 4,
     "metadata": {},
     "output_type": "execute_result"
    }
   ],
   "source": [
    "test.head(1)"
   ]
  },
  {
   "cell_type": "code",
   "execution_count": 5,
   "id": "2d25d967",
   "metadata": {
    "execution": {
     "iopub.execute_input": "2024-11-10T23:41:22.311505Z",
     "iopub.status.busy": "2024-11-10T23:41:22.310340Z",
     "iopub.status.idle": "2024-11-10T23:41:22.321991Z",
     "shell.execute_reply": "2024-11-10T23:41:22.320870Z"
    },
    "papermill": {
     "duration": 0.019925,
     "end_time": "2024-11-10T23:41:22.324496",
     "exception": false,
     "start_time": "2024-11-10T23:41:22.304571",
     "status": "completed"
    },
    "tags": []
   },
   "outputs": [
    {
     "data": {
      "text/html": [
       "<div>\n",
       "<style scoped>\n",
       "    .dataframe tbody tr th:only-of-type {\n",
       "        vertical-align: middle;\n",
       "    }\n",
       "\n",
       "    .dataframe tbody tr th {\n",
       "        vertical-align: top;\n",
       "    }\n",
       "\n",
       "    .dataframe thead th {\n",
       "        text-align: right;\n",
       "    }\n",
       "</style>\n",
       "<table border=\"1\" class=\"dataframe\">\n",
       "  <thead>\n",
       "    <tr style=\"text-align: right;\">\n",
       "      <th></th>\n",
       "      <th>Unnamed: 0</th>\n",
       "      <th>title</th>\n",
       "      <th>text</th>\n",
       "      <th>label</th>\n",
       "    </tr>\n",
       "  </thead>\n",
       "  <tbody>\n",
       "    <tr>\n",
       "      <th>0</th>\n",
       "      <td>0</td>\n",
       "      <td>Sanders back in U.S. Senate, blasts 'coloniali...</td>\n",
       "      <td>WASHINGTON (Reuters) - Democratic U.S. preside...</td>\n",
       "      <td>1</td>\n",
       "    </tr>\n",
       "  </tbody>\n",
       "</table>\n",
       "</div>"
      ],
      "text/plain": [
       "   Unnamed: 0                                              title  \\\n",
       "0           0  Sanders back in U.S. Senate, blasts 'coloniali...   \n",
       "\n",
       "                                                text  label  \n",
       "0  WASHINGTON (Reuters) - Democratic U.S. preside...      1  "
      ]
     },
     "execution_count": 5,
     "metadata": {},
     "output_type": "execute_result"
    }
   ],
   "source": [
    "eval.head(1)"
   ]
  },
  {
   "cell_type": "code",
   "execution_count": 6,
   "id": "7fbb0183",
   "metadata": {
    "execution": {
     "iopub.execute_input": "2024-11-10T23:41:22.335136Z",
     "iopub.status.busy": "2024-11-10T23:41:22.334739Z",
     "iopub.status.idle": "2024-11-10T23:41:22.341831Z",
     "shell.execute_reply": "2024-11-10T23:41:22.340818Z"
    },
    "papermill": {
     "duration": 0.015027,
     "end_time": "2024-11-10T23:41:22.344020",
     "exception": false,
     "start_time": "2024-11-10T23:41:22.328993",
     "status": "completed"
    },
    "tags": []
   },
   "outputs": [
    {
     "data": {
      "text/plain": [
       "((24353, 4), (8117, 4), (8117, 4))"
      ]
     },
     "execution_count": 6,
     "metadata": {},
     "output_type": "execute_result"
    }
   ],
   "source": [
    "train.shape, test.shape, eval.shape"
   ]
  },
  {
   "cell_type": "code",
   "execution_count": 7,
   "id": "01767b71",
   "metadata": {
    "execution": {
     "iopub.execute_input": "2024-11-10T23:41:22.355564Z",
     "iopub.status.busy": "2024-11-10T23:41:22.354473Z",
     "iopub.status.idle": "2024-11-10T23:41:22.363787Z",
     "shell.execute_reply": "2024-11-10T23:41:22.362683Z"
    },
    "papermill": {
     "duration": 0.017856,
     "end_time": "2024-11-10T23:41:22.366456",
     "exception": false,
     "start_time": "2024-11-10T23:41:22.348600",
     "status": "completed"
    },
    "tags": []
   },
   "outputs": [],
   "source": [
    "data = pd.concat([train, test, eval], axis=0)"
   ]
  },
  {
   "cell_type": "code",
   "execution_count": 8,
   "id": "2cd6fe70",
   "metadata": {
    "execution": {
     "iopub.execute_input": "2024-11-10T23:41:22.377286Z",
     "iopub.status.busy": "2024-11-10T23:41:22.376862Z",
     "iopub.status.idle": "2024-11-10T23:41:22.384335Z",
     "shell.execute_reply": "2024-11-10T23:41:22.382833Z"
    },
    "papermill": {
     "duration": 0.015742,
     "end_time": "2024-11-10T23:41:22.386766",
     "exception": false,
     "start_time": "2024-11-10T23:41:22.371024",
     "status": "completed"
    },
    "tags": []
   },
   "outputs": [
    {
     "data": {
      "text/plain": [
       "(40587, 4)"
      ]
     },
     "execution_count": 8,
     "metadata": {},
     "output_type": "execute_result"
    }
   ],
   "source": [
    "data.shape"
   ]
  },
  {
   "cell_type": "code",
   "execution_count": 9,
   "id": "ed234d94",
   "metadata": {
    "execution": {
     "iopub.execute_input": "2024-11-10T23:41:22.398052Z",
     "iopub.status.busy": "2024-11-10T23:41:22.397581Z",
     "iopub.status.idle": "2024-11-10T23:41:22.410790Z",
     "shell.execute_reply": "2024-11-10T23:41:22.409530Z"
    },
    "papermill": {
     "duration": 0.021815,
     "end_time": "2024-11-10T23:41:22.413341",
     "exception": false,
     "start_time": "2024-11-10T23:41:22.391526",
     "status": "completed"
    },
    "tags": []
   },
   "outputs": [
    {
     "data": {
      "text/html": [
       "<div>\n",
       "<style scoped>\n",
       "    .dataframe tbody tr th:only-of-type {\n",
       "        vertical-align: middle;\n",
       "    }\n",
       "\n",
       "    .dataframe tbody tr th {\n",
       "        vertical-align: top;\n",
       "    }\n",
       "\n",
       "    .dataframe thead th {\n",
       "        text-align: right;\n",
       "    }\n",
       "</style>\n",
       "<table border=\"1\" class=\"dataframe\">\n",
       "  <thead>\n",
       "    <tr style=\"text-align: right;\">\n",
       "      <th></th>\n",
       "      <th>Unnamed: 0</th>\n",
       "      <th>title</th>\n",
       "      <th>text</th>\n",
       "      <th>label</th>\n",
       "    </tr>\n",
       "  </thead>\n",
       "  <tbody>\n",
       "    <tr>\n",
       "      <th>0</th>\n",
       "      <td>0</td>\n",
       "      <td>Palestinians switch off Christmas lights in Be...</td>\n",
       "      <td>RAMALLAH, West Bank (Reuters) - Palestinians s...</td>\n",
       "      <td>1</td>\n",
       "    </tr>\n",
       "    <tr>\n",
       "      <th>1</th>\n",
       "      <td>1</td>\n",
       "      <td>China says Trump call with Taiwan president wo...</td>\n",
       "      <td>BEIJING (Reuters) - U.S. President-elect Donal...</td>\n",
       "      <td>1</td>\n",
       "    </tr>\n",
       "    <tr>\n",
       "      <th>2</th>\n",
       "      <td>2</td>\n",
       "      <td>FAIL! The Trump Organization’s Credit Score W...</td>\n",
       "      <td>While the controversy over Trump s personal ta...</td>\n",
       "      <td>0</td>\n",
       "    </tr>\n",
       "    <tr>\n",
       "      <th>3</th>\n",
       "      <td>3</td>\n",
       "      <td>Zimbabwe military chief's China trip was norma...</td>\n",
       "      <td>BEIJING (Reuters) - A trip to Beijing last wee...</td>\n",
       "      <td>1</td>\n",
       "    </tr>\n",
       "    <tr>\n",
       "      <th>4</th>\n",
       "      <td>4</td>\n",
       "      <td>THE MOST UNCOURAGEOUS PRESIDENT EVER Receives ...</td>\n",
       "      <td>There has never been a more UNCOURAGEOUS perso...</td>\n",
       "      <td>0</td>\n",
       "    </tr>\n",
       "  </tbody>\n",
       "</table>\n",
       "</div>"
      ],
      "text/plain": [
       "   Unnamed: 0                                              title  \\\n",
       "0           0  Palestinians switch off Christmas lights in Be...   \n",
       "1           1  China says Trump call with Taiwan president wo...   \n",
       "2           2   FAIL! The Trump Organization’s Credit Score W...   \n",
       "3           3  Zimbabwe military chief's China trip was norma...   \n",
       "4           4  THE MOST UNCOURAGEOUS PRESIDENT EVER Receives ...   \n",
       "\n",
       "                                                text  label  \n",
       "0  RAMALLAH, West Bank (Reuters) - Palestinians s...      1  \n",
       "1  BEIJING (Reuters) - U.S. President-elect Donal...      1  \n",
       "2  While the controversy over Trump s personal ta...      0  \n",
       "3  BEIJING (Reuters) - A trip to Beijing last wee...      1  \n",
       "4  There has never been a more UNCOURAGEOUS perso...      0  "
      ]
     },
     "execution_count": 9,
     "metadata": {},
     "output_type": "execute_result"
    }
   ],
   "source": [
    "data.head(5)"
   ]
  },
  {
   "cell_type": "code",
   "execution_count": 10,
   "id": "f374c217",
   "metadata": {
    "execution": {
     "iopub.execute_input": "2024-11-10T23:41:22.426086Z",
     "iopub.status.busy": "2024-11-10T23:41:22.425686Z",
     "iopub.status.idle": "2024-11-10T23:41:22.433332Z",
     "shell.execute_reply": "2024-11-10T23:41:22.432103Z"
    },
    "papermill": {
     "duration": 0.017504,
     "end_time": "2024-11-10T23:41:22.435783",
     "exception": false,
     "start_time": "2024-11-10T23:41:22.418279",
     "status": "completed"
    },
    "tags": []
   },
   "outputs": [
    {
     "data": {
      "text/plain": [
       "Index(['Unnamed: 0', 'title', 'text', 'label'], dtype='object')"
      ]
     },
     "execution_count": 10,
     "metadata": {},
     "output_type": "execute_result"
    }
   ],
   "source": [
    "data.columns"
   ]
  },
  {
   "cell_type": "code",
   "execution_count": 11,
   "id": "cfcf4ef2",
   "metadata": {
    "execution": {
     "iopub.execute_input": "2024-11-10T23:41:22.447567Z",
     "iopub.status.busy": "2024-11-10T23:41:22.447165Z",
     "iopub.status.idle": "2024-11-10T23:41:22.459985Z",
     "shell.execute_reply": "2024-11-10T23:41:22.458696Z"
    },
    "papermill": {
     "duration": 0.021423,
     "end_time": "2024-11-10T23:41:22.462265",
     "exception": false,
     "start_time": "2024-11-10T23:41:22.440842",
     "status": "completed"
    },
    "tags": []
   },
   "outputs": [
    {
     "data": {
      "text/plain": [
       "0          0\n",
       "1          1\n",
       "2          2\n",
       "3          3\n",
       "4          4\n",
       "        ... \n",
       "8112    8112\n",
       "8113    8113\n",
       "8114    8114\n",
       "8115    8115\n",
       "8116    8116\n",
       "Name: Unnamed: 0, Length: 40587, dtype: int64"
      ]
     },
     "execution_count": 11,
     "metadata": {},
     "output_type": "execute_result"
    }
   ],
   "source": [
    "data.pop('Unnamed: 0')"
   ]
  },
  {
   "cell_type": "code",
   "execution_count": 12,
   "id": "806c19bb",
   "metadata": {
    "execution": {
     "iopub.execute_input": "2024-11-10T23:41:22.474644Z",
     "iopub.status.busy": "2024-11-10T23:41:22.474195Z",
     "iopub.status.idle": "2024-11-10T23:41:22.481500Z",
     "shell.execute_reply": "2024-11-10T23:41:22.480576Z"
    },
    "papermill": {
     "duration": 0.01651,
     "end_time": "2024-11-10T23:41:22.483981",
     "exception": false,
     "start_time": "2024-11-10T23:41:22.467471",
     "status": "completed"
    },
    "tags": []
   },
   "outputs": [
    {
     "data": {
      "text/plain": [
       "Index(['title', 'text', 'label'], dtype='object')"
      ]
     },
     "execution_count": 12,
     "metadata": {},
     "output_type": "execute_result"
    }
   ],
   "source": [
    "data.columns"
   ]
  },
  {
   "cell_type": "code",
   "execution_count": 13,
   "id": "302319a0",
   "metadata": {
    "execution": {
     "iopub.execute_input": "2024-11-10T23:41:22.496512Z",
     "iopub.status.busy": "2024-11-10T23:41:22.496083Z",
     "iopub.status.idle": "2024-11-10T23:41:22.507288Z",
     "shell.execute_reply": "2024-11-10T23:41:22.506103Z"
    },
    "papermill": {
     "duration": 0.02054,
     "end_time": "2024-11-10T23:41:22.509850",
     "exception": false,
     "start_time": "2024-11-10T23:41:22.489310",
     "status": "completed"
    },
    "tags": []
   },
   "outputs": [
    {
     "data": {
      "text/html": [
       "<div>\n",
       "<style scoped>\n",
       "    .dataframe tbody tr th:only-of-type {\n",
       "        vertical-align: middle;\n",
       "    }\n",
       "\n",
       "    .dataframe tbody tr th {\n",
       "        vertical-align: top;\n",
       "    }\n",
       "\n",
       "    .dataframe thead th {\n",
       "        text-align: right;\n",
       "    }\n",
       "</style>\n",
       "<table border=\"1\" class=\"dataframe\">\n",
       "  <thead>\n",
       "    <tr style=\"text-align: right;\">\n",
       "      <th></th>\n",
       "      <th>title</th>\n",
       "      <th>text</th>\n",
       "      <th>label</th>\n",
       "    </tr>\n",
       "  </thead>\n",
       "  <tbody>\n",
       "    <tr>\n",
       "      <th>0</th>\n",
       "      <td>Palestinians switch off Christmas lights in Be...</td>\n",
       "      <td>RAMALLAH, West Bank (Reuters) - Palestinians s...</td>\n",
       "      <td>1</td>\n",
       "    </tr>\n",
       "  </tbody>\n",
       "</table>\n",
       "</div>"
      ],
      "text/plain": [
       "                                               title  \\\n",
       "0  Palestinians switch off Christmas lights in Be...   \n",
       "\n",
       "                                                text  label  \n",
       "0  RAMALLAH, West Bank (Reuters) - Palestinians s...      1  "
      ]
     },
     "execution_count": 13,
     "metadata": {},
     "output_type": "execute_result"
    }
   ],
   "source": [
    "data.head(1)"
   ]
  }
 ],
 "metadata": {
  "kaggle": {
   "accelerator": "none",
   "dataSources": [
    {
     "datasetId": 5926278,
     "sourceId": 9693156,
     "sourceType": "datasetVersion"
    }
   ],
   "dockerImageVersionId": 30786,
   "isGpuEnabled": false,
   "isInternetEnabled": true,
   "language": "python",
   "sourceType": "notebook"
  },
  "kernelspec": {
   "display_name": "Python 3",
   "language": "python",
   "name": "python3"
  },
  "language_info": {
   "codemirror_mode": {
    "name": "ipython",
    "version": 3
   },
   "file_extension": ".py",
   "mimetype": "text/x-python",
   "name": "python",
   "nbconvert_exporter": "python",
   "pygments_lexer": "ipython3",
   "version": "3.10.14"
  },
  "papermill": {
   "default_parameters": {},
   "duration": 12.976818,
   "end_time": "2024-11-10T23:41:23.237089",
   "environment_variables": {},
   "exception": null,
   "input_path": "__notebook__.ipynb",
   "output_path": "__notebook__.ipynb",
   "parameters": {},
   "start_time": "2024-11-10T23:41:10.260271",
   "version": "2.6.0"
  }
 },
 "nbformat": 4,
 "nbformat_minor": 5
}
